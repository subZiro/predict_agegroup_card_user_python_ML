{
 "cells": [
  {
   "cell_type": "code",
   "execution_count": 1,
   "metadata": {},
   "outputs": [],
   "source": [
    "import pandas as pd"
   ]
  },
  {
   "cell_type": "markdown",
   "metadata": {},
   "source": [
    "Считаем данные по транзакциям и правильные метки возрастных категорий."
   ]
  },
  {
   "cell_type": "code",
   "execution_count": 2,
   "metadata": {},
   "outputs": [],
   "source": [
    "transactions_train = pd.read_csv('../data/transactions_train.csv')"
   ]
  },
  {
   "cell_type": "code",
   "execution_count": 3,
   "metadata": {},
   "outputs": [],
   "source": [
    "train_target = pd.read_csv('../data/train_target.csv')"
   ]
  },
  {
   "cell_type": "code",
   "execution_count": 4,
   "metadata": {},
   "outputs": [
    {
     "data": {
      "text/html": [
       "<div>\n",
       "<style scoped>\n",
       "    .dataframe tbody tr th:only-of-type {\n",
       "        vertical-align: middle;\n",
       "    }\n",
       "\n",
       "    .dataframe tbody tr th {\n",
       "        vertical-align: top;\n",
       "    }\n",
       "\n",
       "    .dataframe thead th {\n",
       "        text-align: right;\n",
       "    }\n",
       "</style>\n",
       "<table border=\"1\" class=\"dataframe\">\n",
       "  <thead>\n",
       "    <tr style=\"text-align: right;\">\n",
       "      <th></th>\n",
       "      <th>client_id</th>\n",
       "      <th>trans_date</th>\n",
       "      <th>small_group</th>\n",
       "      <th>amount_rur</th>\n",
       "    </tr>\n",
       "  </thead>\n",
       "  <tbody>\n",
       "    <tr>\n",
       "      <td>0</td>\n",
       "      <td>33172</td>\n",
       "      <td>6</td>\n",
       "      <td>4</td>\n",
       "      <td>71.463</td>\n",
       "    </tr>\n",
       "    <tr>\n",
       "      <td>1</td>\n",
       "      <td>33172</td>\n",
       "      <td>6</td>\n",
       "      <td>35</td>\n",
       "      <td>45.017</td>\n",
       "    </tr>\n",
       "    <tr>\n",
       "      <td>2</td>\n",
       "      <td>33172</td>\n",
       "      <td>8</td>\n",
       "      <td>11</td>\n",
       "      <td>13.887</td>\n",
       "    </tr>\n",
       "    <tr>\n",
       "      <td>3</td>\n",
       "      <td>33172</td>\n",
       "      <td>9</td>\n",
       "      <td>11</td>\n",
       "      <td>15.983</td>\n",
       "    </tr>\n",
       "    <tr>\n",
       "      <td>4</td>\n",
       "      <td>33172</td>\n",
       "      <td>10</td>\n",
       "      <td>11</td>\n",
       "      <td>21.341</td>\n",
       "    </tr>\n",
       "  </tbody>\n",
       "</table>\n",
       "</div>"
      ],
      "text/plain": [
       "   client_id  trans_date  small_group  amount_rur\n",
       "0      33172           6            4      71.463\n",
       "1      33172           6           35      45.017\n",
       "2      33172           8           11      13.887\n",
       "3      33172           9           11      15.983\n",
       "4      33172          10           11      21.341"
      ]
     },
     "execution_count": 4,
     "metadata": {},
     "output_type": "execute_result"
    }
   ],
   "source": [
    "transactions_train.head()"
   ]
  },
  {
   "cell_type": "markdown",
   "metadata": {},
   "source": [
    "* client_id - уникальный идентификатор клиента\n",
    "* trans_date - дата совершения транзакции\n",
    "* small_group - категория покупки\n",
    "* amount_rur - сумма транзакции"
   ]
  },
  {
   "cell_type": "code",
   "execution_count": 5,
   "metadata": {},
   "outputs": [
    {
     "data": {
      "text/html": [
       "<div>\n",
       "<style scoped>\n",
       "    .dataframe tbody tr th:only-of-type {\n",
       "        vertical-align: middle;\n",
       "    }\n",
       "\n",
       "    .dataframe tbody tr th {\n",
       "        vertical-align: top;\n",
       "    }\n",
       "\n",
       "    .dataframe thead th {\n",
       "        text-align: right;\n",
       "    }\n",
       "</style>\n",
       "<table border=\"1\" class=\"dataframe\">\n",
       "  <thead>\n",
       "    <tr style=\"text-align: right;\">\n",
       "      <th></th>\n",
       "      <th>client_id</th>\n",
       "      <th>bins</th>\n",
       "    </tr>\n",
       "  </thead>\n",
       "  <tbody>\n",
       "    <tr>\n",
       "      <td>0</td>\n",
       "      <td>24662</td>\n",
       "      <td>2</td>\n",
       "    </tr>\n",
       "    <tr>\n",
       "      <td>1</td>\n",
       "      <td>1046</td>\n",
       "      <td>0</td>\n",
       "    </tr>\n",
       "    <tr>\n",
       "      <td>2</td>\n",
       "      <td>34089</td>\n",
       "      <td>2</td>\n",
       "    </tr>\n",
       "    <tr>\n",
       "      <td>3</td>\n",
       "      <td>34848</td>\n",
       "      <td>1</td>\n",
       "    </tr>\n",
       "    <tr>\n",
       "      <td>4</td>\n",
       "      <td>47076</td>\n",
       "      <td>3</td>\n",
       "    </tr>\n",
       "  </tbody>\n",
       "</table>\n",
       "</div>"
      ],
      "text/plain": [
       "   client_id  bins\n",
       "0      24662     2\n",
       "1       1046     0\n",
       "2      34089     2\n",
       "3      34848     1\n",
       "4      47076     3"
      ]
     },
     "execution_count": 5,
     "metadata": {},
     "output_type": "execute_result"
    }
   ],
   "source": [
    "train_target.head(5)"
   ]
  },
  {
   "cell_type": "markdown",
   "metadata": {},
   "source": [
    "* client_id - уникальный идентификатор клиента, соответствует полю client_id из транзакций\n",
    "* bins - целевая переменная, которую нужно предсказать, это категория возраста клиента"
   ]
  },
  {
   "cell_type": "markdown",
   "metadata": {},
   "source": [
    "Посчитаем по каждому клиенту самые простые аггрегационные признаки."
   ]
  },
  {
   "cell_type": "code",
   "execution_count": 6,
   "metadata": {},
   "outputs": [],
   "source": [
    "agg_features=transactions_train.groupby('client_id')['amount_rur'].agg(['sum','mean','std','min','max']).reset_index()"
   ]
  },
  {
   "cell_type": "code",
   "execution_count": 7,
   "metadata": {},
   "outputs": [
    {
     "data": {
      "text/html": [
       "<div>\n",
       "<style scoped>\n",
       "    .dataframe tbody tr th:only-of-type {\n",
       "        vertical-align: middle;\n",
       "    }\n",
       "\n",
       "    .dataframe tbody tr th {\n",
       "        vertical-align: top;\n",
       "    }\n",
       "\n",
       "    .dataframe thead th {\n",
       "        text-align: right;\n",
       "    }\n",
       "</style>\n",
       "<table border=\"1\" class=\"dataframe\">\n",
       "  <thead>\n",
       "    <tr style=\"text-align: right;\">\n",
       "      <th></th>\n",
       "      <th>client_id</th>\n",
       "      <th>sum</th>\n",
       "      <th>mean</th>\n",
       "      <th>std</th>\n",
       "      <th>min</th>\n",
       "      <th>max</th>\n",
       "    </tr>\n",
       "  </thead>\n",
       "  <tbody>\n",
       "    <tr>\n",
       "      <td>0</td>\n",
       "      <td>4</td>\n",
       "      <td>28404.121</td>\n",
       "      <td>39.450168</td>\n",
       "      <td>73.511624</td>\n",
       "      <td>0.043</td>\n",
       "      <td>1341.802</td>\n",
       "    </tr>\n",
       "    <tr>\n",
       "      <td>1</td>\n",
       "      <td>6</td>\n",
       "      <td>15720.739</td>\n",
       "      <td>21.535259</td>\n",
       "      <td>26.200397</td>\n",
       "      <td>0.045</td>\n",
       "      <td>315.781</td>\n",
       "    </tr>\n",
       "    <tr>\n",
       "      <td>2</td>\n",
       "      <td>7</td>\n",
       "      <td>53630.036</td>\n",
       "      <td>69.379089</td>\n",
       "      <td>253.261383</td>\n",
       "      <td>0.043</td>\n",
       "      <td>4505.971</td>\n",
       "    </tr>\n",
       "    <tr>\n",
       "      <td>3</td>\n",
       "      <td>10</td>\n",
       "      <td>34419.365</td>\n",
       "      <td>48.752642</td>\n",
       "      <td>63.191701</td>\n",
       "      <td>0.045</td>\n",
       "      <td>654.893</td>\n",
       "    </tr>\n",
       "    <tr>\n",
       "      <td>4</td>\n",
       "      <td>11</td>\n",
       "      <td>26789.404</td>\n",
       "      <td>32.991877</td>\n",
       "      <td>107.395139</td>\n",
       "      <td>0.388</td>\n",
       "      <td>2105.058</td>\n",
       "    </tr>\n",
       "  </tbody>\n",
       "</table>\n",
       "</div>"
      ],
      "text/plain": [
       "   client_id        sum       mean         std    min       max\n",
       "0          4  28404.121  39.450168   73.511624  0.043  1341.802\n",
       "1          6  15720.739  21.535259   26.200397  0.045   315.781\n",
       "2          7  53630.036  69.379089  253.261383  0.043  4505.971\n",
       "3         10  34419.365  48.752642   63.191701  0.045   654.893\n",
       "4         11  26789.404  32.991877  107.395139  0.388  2105.058"
      ]
     },
     "execution_count": 7,
     "metadata": {},
     "output_type": "execute_result"
    }
   ],
   "source": [
    "agg_features.head()"
   ]
  },
  {
   "cell_type": "markdown",
   "metadata": {},
   "source": [
    "Посчитаем для каждого клиента количество транзакций по каждой категории."
   ]
  },
  {
   "cell_type": "code",
   "execution_count": 8,
   "metadata": {
    "scrolled": true
   },
   "outputs": [],
   "source": [
    "counter_df_train=transactions_train.groupby(['client_id','small_group'])['amount_rur'].count()"
   ]
  },
  {
   "cell_type": "code",
   "execution_count": 9,
   "metadata": {
    "scrolled": true
   },
   "outputs": [],
   "source": [
    "cat_counts_train=counter_df_train.reset_index().pivot(index='client_id', \\\n",
    "                                                      columns='small_group',values='amount_rur')"
   ]
  },
  {
   "cell_type": "code",
   "execution_count": 10,
   "metadata": {
    "scrolled": true
   },
   "outputs": [],
   "source": [
    "cat_counts_train=cat_counts_train.fillna(0)"
   ]
  },
  {
   "cell_type": "code",
   "execution_count": 11,
   "metadata": {},
   "outputs": [],
   "source": [
    "cat_counts_train.columns=['small_group_'+str(i) for i in cat_counts_train.columns]"
   ]
  },
  {
   "cell_type": "code",
   "execution_count": 12,
   "metadata": {},
   "outputs": [
    {
     "data": {
      "text/html": [
       "<div>\n",
       "<style scoped>\n",
       "    .dataframe tbody tr th:only-of-type {\n",
       "        vertical-align: middle;\n",
       "    }\n",
       "\n",
       "    .dataframe tbody tr th {\n",
       "        vertical-align: top;\n",
       "    }\n",
       "\n",
       "    .dataframe thead th {\n",
       "        text-align: right;\n",
       "    }\n",
       "</style>\n",
       "<table border=\"1\" class=\"dataframe\">\n",
       "  <thead>\n",
       "    <tr style=\"text-align: right;\">\n",
       "      <th></th>\n",
       "      <th>small_group_0</th>\n",
       "      <th>small_group_1</th>\n",
       "      <th>small_group_2</th>\n",
       "      <th>small_group_3</th>\n",
       "      <th>small_group_4</th>\n",
       "      <th>small_group_5</th>\n",
       "      <th>small_group_6</th>\n",
       "      <th>small_group_7</th>\n",
       "      <th>small_group_8</th>\n",
       "      <th>small_group_9</th>\n",
       "      <th>...</th>\n",
       "      <th>small_group_192</th>\n",
       "      <th>small_group_193</th>\n",
       "      <th>small_group_195</th>\n",
       "      <th>small_group_196</th>\n",
       "      <th>small_group_197</th>\n",
       "      <th>small_group_198</th>\n",
       "      <th>small_group_199</th>\n",
       "      <th>small_group_200</th>\n",
       "      <th>small_group_202</th>\n",
       "      <th>small_group_203</th>\n",
       "    </tr>\n",
       "    <tr>\n",
       "      <th>client_id</th>\n",
       "      <th></th>\n",
       "      <th></th>\n",
       "      <th></th>\n",
       "      <th></th>\n",
       "      <th></th>\n",
       "      <th></th>\n",
       "      <th></th>\n",
       "      <th></th>\n",
       "      <th></th>\n",
       "      <th></th>\n",
       "      <th></th>\n",
       "      <th></th>\n",
       "      <th></th>\n",
       "      <th></th>\n",
       "      <th></th>\n",
       "      <th></th>\n",
       "      <th></th>\n",
       "      <th></th>\n",
       "      <th></th>\n",
       "      <th></th>\n",
       "      <th></th>\n",
       "    </tr>\n",
       "  </thead>\n",
       "  <tbody>\n",
       "    <tr>\n",
       "      <td>4</td>\n",
       "      <td>0.0</td>\n",
       "      <td>447.0</td>\n",
       "      <td>1.0</td>\n",
       "      <td>44.0</td>\n",
       "      <td>93.0</td>\n",
       "      <td>0.0</td>\n",
       "      <td>0.0</td>\n",
       "      <td>0.0</td>\n",
       "      <td>1.0</td>\n",
       "      <td>13.0</td>\n",
       "      <td>...</td>\n",
       "      <td>0.0</td>\n",
       "      <td>0.0</td>\n",
       "      <td>0.0</td>\n",
       "      <td>0.0</td>\n",
       "      <td>0.0</td>\n",
       "      <td>0.0</td>\n",
       "      <td>0.0</td>\n",
       "      <td>0.0</td>\n",
       "      <td>0.0</td>\n",
       "      <td>0.0</td>\n",
       "    </tr>\n",
       "    <tr>\n",
       "      <td>6</td>\n",
       "      <td>2.0</td>\n",
       "      <td>397.0</td>\n",
       "      <td>0.0</td>\n",
       "      <td>172.0</td>\n",
       "      <td>10.0</td>\n",
       "      <td>0.0</td>\n",
       "      <td>0.0</td>\n",
       "      <td>0.0</td>\n",
       "      <td>0.0</td>\n",
       "      <td>6.0</td>\n",
       "      <td>...</td>\n",
       "      <td>0.0</td>\n",
       "      <td>0.0</td>\n",
       "      <td>0.0</td>\n",
       "      <td>0.0</td>\n",
       "      <td>0.0</td>\n",
       "      <td>0.0</td>\n",
       "      <td>0.0</td>\n",
       "      <td>0.0</td>\n",
       "      <td>0.0</td>\n",
       "      <td>0.0</td>\n",
       "    </tr>\n",
       "    <tr>\n",
       "      <td>7</td>\n",
       "      <td>2.0</td>\n",
       "      <td>79.0</td>\n",
       "      <td>5.0</td>\n",
       "      <td>27.0</td>\n",
       "      <td>19.0</td>\n",
       "      <td>1.0</td>\n",
       "      <td>0.0</td>\n",
       "      <td>2.0</td>\n",
       "      <td>1.0</td>\n",
       "      <td>39.0</td>\n",
       "      <td>...</td>\n",
       "      <td>0.0</td>\n",
       "      <td>0.0</td>\n",
       "      <td>0.0</td>\n",
       "      <td>0.0</td>\n",
       "      <td>0.0</td>\n",
       "      <td>0.0</td>\n",
       "      <td>0.0</td>\n",
       "      <td>0.0</td>\n",
       "      <td>0.0</td>\n",
       "      <td>0.0</td>\n",
       "    </tr>\n",
       "    <tr>\n",
       "      <td>10</td>\n",
       "      <td>12.0</td>\n",
       "      <td>309.0</td>\n",
       "      <td>1.0</td>\n",
       "      <td>71.0</td>\n",
       "      <td>65.0</td>\n",
       "      <td>0.0</td>\n",
       "      <td>0.0</td>\n",
       "      <td>0.0</td>\n",
       "      <td>3.0</td>\n",
       "      <td>19.0</td>\n",
       "      <td>...</td>\n",
       "      <td>0.0</td>\n",
       "      <td>0.0</td>\n",
       "      <td>0.0</td>\n",
       "      <td>0.0</td>\n",
       "      <td>0.0</td>\n",
       "      <td>0.0</td>\n",
       "      <td>0.0</td>\n",
       "      <td>0.0</td>\n",
       "      <td>0.0</td>\n",
       "      <td>0.0</td>\n",
       "    </tr>\n",
       "    <tr>\n",
       "      <td>11</td>\n",
       "      <td>2.0</td>\n",
       "      <td>423.0</td>\n",
       "      <td>0.0</td>\n",
       "      <td>59.0</td>\n",
       "      <td>23.0</td>\n",
       "      <td>3.0</td>\n",
       "      <td>0.0</td>\n",
       "      <td>0.0</td>\n",
       "      <td>0.0</td>\n",
       "      <td>10.0</td>\n",
       "      <td>...</td>\n",
       "      <td>0.0</td>\n",
       "      <td>0.0</td>\n",
       "      <td>0.0</td>\n",
       "      <td>0.0</td>\n",
       "      <td>0.0</td>\n",
       "      <td>0.0</td>\n",
       "      <td>0.0</td>\n",
       "      <td>0.0</td>\n",
       "      <td>0.0</td>\n",
       "      <td>0.0</td>\n",
       "    </tr>\n",
       "  </tbody>\n",
       "</table>\n",
       "<p>5 rows × 202 columns</p>\n",
       "</div>"
      ],
      "text/plain": [
       "           small_group_0  small_group_1  small_group_2  small_group_3  \\\n",
       "client_id                                                               \n",
       "4                    0.0          447.0            1.0           44.0   \n",
       "6                    2.0          397.0            0.0          172.0   \n",
       "7                    2.0           79.0            5.0           27.0   \n",
       "10                  12.0          309.0            1.0           71.0   \n",
       "11                   2.0          423.0            0.0           59.0   \n",
       "\n",
       "           small_group_4  small_group_5  small_group_6  small_group_7  \\\n",
       "client_id                                                               \n",
       "4                   93.0            0.0            0.0            0.0   \n",
       "6                   10.0            0.0            0.0            0.0   \n",
       "7                   19.0            1.0            0.0            2.0   \n",
       "10                  65.0            0.0            0.0            0.0   \n",
       "11                  23.0            3.0            0.0            0.0   \n",
       "\n",
       "           small_group_8  small_group_9  ...  small_group_192  \\\n",
       "client_id                                ...                    \n",
       "4                    1.0           13.0  ...              0.0   \n",
       "6                    0.0            6.0  ...              0.0   \n",
       "7                    1.0           39.0  ...              0.0   \n",
       "10                   3.0           19.0  ...              0.0   \n",
       "11                   0.0           10.0  ...              0.0   \n",
       "\n",
       "           small_group_193  small_group_195  small_group_196  small_group_197  \\\n",
       "client_id                                                                       \n",
       "4                      0.0              0.0              0.0              0.0   \n",
       "6                      0.0              0.0              0.0              0.0   \n",
       "7                      0.0              0.0              0.0              0.0   \n",
       "10                     0.0              0.0              0.0              0.0   \n",
       "11                     0.0              0.0              0.0              0.0   \n",
       "\n",
       "           small_group_198  small_group_199  small_group_200  small_group_202  \\\n",
       "client_id                                                                       \n",
       "4                      0.0              0.0              0.0              0.0   \n",
       "6                      0.0              0.0              0.0              0.0   \n",
       "7                      0.0              0.0              0.0              0.0   \n",
       "10                     0.0              0.0              0.0              0.0   \n",
       "11                     0.0              0.0              0.0              0.0   \n",
       "\n",
       "           small_group_203  \n",
       "client_id                   \n",
       "4                      0.0  \n",
       "6                      0.0  \n",
       "7                      0.0  \n",
       "10                     0.0  \n",
       "11                     0.0  \n",
       "\n",
       "[5 rows x 202 columns]"
      ]
     },
     "execution_count": 12,
     "metadata": {},
     "output_type": "execute_result"
    }
   ],
   "source": [
    "cat_counts_train.head()"
   ]
  },
  {
   "cell_type": "markdown",
   "metadata": {},
   "source": [
    "Далее соединим все файлы в один датафрейм с таргетом."
   ]
  },
  {
   "cell_type": "code",
   "execution_count": 13,
   "metadata": {},
   "outputs": [],
   "source": [
    "train=pd.merge(train_target,agg_features,on='client_id')"
   ]
  },
  {
   "cell_type": "code",
   "execution_count": 14,
   "metadata": {},
   "outputs": [],
   "source": [
    "train=pd.merge(train,cat_counts_train.reset_index(),on='client_id')"
   ]
  },
  {
   "cell_type": "code",
   "execution_count": 15,
   "metadata": {},
   "outputs": [
    {
     "data": {
      "text/html": [
       "<div>\n",
       "<style scoped>\n",
       "    .dataframe tbody tr th:only-of-type {\n",
       "        vertical-align: middle;\n",
       "    }\n",
       "\n",
       "    .dataframe tbody tr th {\n",
       "        vertical-align: top;\n",
       "    }\n",
       "\n",
       "    .dataframe thead th {\n",
       "        text-align: right;\n",
       "    }\n",
       "</style>\n",
       "<table border=\"1\" class=\"dataframe\">\n",
       "  <thead>\n",
       "    <tr style=\"text-align: right;\">\n",
       "      <th></th>\n",
       "      <th>client_id</th>\n",
       "      <th>bins</th>\n",
       "      <th>sum</th>\n",
       "      <th>mean</th>\n",
       "      <th>std</th>\n",
       "      <th>min</th>\n",
       "      <th>max</th>\n",
       "      <th>small_group_0</th>\n",
       "      <th>small_group_1</th>\n",
       "      <th>small_group_2</th>\n",
       "      <th>...</th>\n",
       "      <th>small_group_192</th>\n",
       "      <th>small_group_193</th>\n",
       "      <th>small_group_195</th>\n",
       "      <th>small_group_196</th>\n",
       "      <th>small_group_197</th>\n",
       "      <th>small_group_198</th>\n",
       "      <th>small_group_199</th>\n",
       "      <th>small_group_200</th>\n",
       "      <th>small_group_202</th>\n",
       "      <th>small_group_203</th>\n",
       "    </tr>\n",
       "  </thead>\n",
       "  <tbody>\n",
       "    <tr>\n",
       "      <td>0</td>\n",
       "      <td>24662</td>\n",
       "      <td>2</td>\n",
       "      <td>30254.011</td>\n",
       "      <td>34.774725</td>\n",
       "      <td>72.037354</td>\n",
       "      <td>0.074</td>\n",
       "      <td>1227.314</td>\n",
       "      <td>0.0</td>\n",
       "      <td>174.0</td>\n",
       "      <td>2.0</td>\n",
       "      <td>...</td>\n",
       "      <td>0.0</td>\n",
       "      <td>0.0</td>\n",
       "      <td>0.0</td>\n",
       "      <td>0.0</td>\n",
       "      <td>0.0</td>\n",
       "      <td>0.0</td>\n",
       "      <td>0.0</td>\n",
       "      <td>0.0</td>\n",
       "      <td>0.0</td>\n",
       "      <td>0.0</td>\n",
       "    </tr>\n",
       "    <tr>\n",
       "      <td>1</td>\n",
       "      <td>1046</td>\n",
       "      <td>0</td>\n",
       "      <td>42548.570</td>\n",
       "      <td>52.015367</td>\n",
       "      <td>106.540962</td>\n",
       "      <td>0.550</td>\n",
       "      <td>1210.506</td>\n",
       "      <td>1.0</td>\n",
       "      <td>187.0</td>\n",
       "      <td>61.0</td>\n",
       "      <td>...</td>\n",
       "      <td>0.0</td>\n",
       "      <td>0.0</td>\n",
       "      <td>0.0</td>\n",
       "      <td>0.0</td>\n",
       "      <td>0.0</td>\n",
       "      <td>0.0</td>\n",
       "      <td>0.0</td>\n",
       "      <td>0.0</td>\n",
       "      <td>0.0</td>\n",
       "      <td>0.0</td>\n",
       "    </tr>\n",
       "    <tr>\n",
       "      <td>2</td>\n",
       "      <td>34089</td>\n",
       "      <td>2</td>\n",
       "      <td>26842.816</td>\n",
       "      <td>34.325852</td>\n",
       "      <td>59.927450</td>\n",
       "      <td>0.043</td>\n",
       "      <td>782.641</td>\n",
       "      <td>0.0</td>\n",
       "      <td>372.0</td>\n",
       "      <td>0.0</td>\n",
       "      <td>...</td>\n",
       "      <td>0.0</td>\n",
       "      <td>0.0</td>\n",
       "      <td>0.0</td>\n",
       "      <td>0.0</td>\n",
       "      <td>0.0</td>\n",
       "      <td>0.0</td>\n",
       "      <td>0.0</td>\n",
       "      <td>0.0</td>\n",
       "      <td>0.0</td>\n",
       "      <td>0.0</td>\n",
       "    </tr>\n",
       "    <tr>\n",
       "      <td>3</td>\n",
       "      <td>34848</td>\n",
       "      <td>1</td>\n",
       "      <td>15773.126</td>\n",
       "      <td>16.160990</td>\n",
       "      <td>14.224936</td>\n",
       "      <td>0.043</td>\n",
       "      <td>109.590</td>\n",
       "      <td>0.0</td>\n",
       "      <td>359.0</td>\n",
       "      <td>1.0</td>\n",
       "      <td>...</td>\n",
       "      <td>0.0</td>\n",
       "      <td>0.0</td>\n",
       "      <td>0.0</td>\n",
       "      <td>0.0</td>\n",
       "      <td>0.0</td>\n",
       "      <td>0.0</td>\n",
       "      <td>0.0</td>\n",
       "      <td>0.0</td>\n",
       "      <td>0.0</td>\n",
       "      <td>0.0</td>\n",
       "    </tr>\n",
       "    <tr>\n",
       "      <td>4</td>\n",
       "      <td>47076</td>\n",
       "      <td>3</td>\n",
       "      <td>12488.375</td>\n",
       "      <td>15.929050</td>\n",
       "      <td>35.473591</td>\n",
       "      <td>0.432</td>\n",
       "      <td>541.165</td>\n",
       "      <td>0.0</td>\n",
       "      <td>378.0</td>\n",
       "      <td>0.0</td>\n",
       "      <td>...</td>\n",
       "      <td>0.0</td>\n",
       "      <td>0.0</td>\n",
       "      <td>0.0</td>\n",
       "      <td>0.0</td>\n",
       "      <td>0.0</td>\n",
       "      <td>0.0</td>\n",
       "      <td>0.0</td>\n",
       "      <td>0.0</td>\n",
       "      <td>0.0</td>\n",
       "      <td>0.0</td>\n",
       "    </tr>\n",
       "  </tbody>\n",
       "</table>\n",
       "<p>5 rows × 209 columns</p>\n",
       "</div>"
      ],
      "text/plain": [
       "   client_id  bins        sum       mean         std    min       max  \\\n",
       "0      24662     2  30254.011  34.774725   72.037354  0.074  1227.314   \n",
       "1       1046     0  42548.570  52.015367  106.540962  0.550  1210.506   \n",
       "2      34089     2  26842.816  34.325852   59.927450  0.043   782.641   \n",
       "3      34848     1  15773.126  16.160990   14.224936  0.043   109.590   \n",
       "4      47076     3  12488.375  15.929050   35.473591  0.432   541.165   \n",
       "\n",
       "   small_group_0  small_group_1  small_group_2  ...  small_group_192  \\\n",
       "0            0.0          174.0            2.0  ...              0.0   \n",
       "1            1.0          187.0           61.0  ...              0.0   \n",
       "2            0.0          372.0            0.0  ...              0.0   \n",
       "3            0.0          359.0            1.0  ...              0.0   \n",
       "4            0.0          378.0            0.0  ...              0.0   \n",
       "\n",
       "   small_group_193  small_group_195  small_group_196  small_group_197  \\\n",
       "0              0.0              0.0              0.0              0.0   \n",
       "1              0.0              0.0              0.0              0.0   \n",
       "2              0.0              0.0              0.0              0.0   \n",
       "3              0.0              0.0              0.0              0.0   \n",
       "4              0.0              0.0              0.0              0.0   \n",
       "\n",
       "   small_group_198  small_group_199  small_group_200  small_group_202  \\\n",
       "0              0.0              0.0              0.0              0.0   \n",
       "1              0.0              0.0              0.0              0.0   \n",
       "2              0.0              0.0              0.0              0.0   \n",
       "3              0.0              0.0              0.0              0.0   \n",
       "4              0.0              0.0              0.0              0.0   \n",
       "\n",
       "   small_group_203  \n",
       "0              0.0  \n",
       "1              0.0  \n",
       "2              0.0  \n",
       "3              0.0  \n",
       "4              0.0  \n",
       "\n",
       "[5 rows x 209 columns]"
      ]
     },
     "execution_count": 15,
     "metadata": {},
     "output_type": "execute_result"
    }
   ],
   "source": [
    "train.head()"
   ]
  },
  {
   "cell_type": "code",
   "execution_count": null,
   "metadata": {},
   "outputs": [],
   "source": []
  },
  {
   "cell_type": "code",
   "execution_count": 16,
   "metadata": {},
   "outputs": [],
   "source": [
    "\n",
    "import numpy as np\n",
    "\n",
    "\n",
    "# импорт моделей\n",
    "from sklearn.neighbors import KNeighborsClassifier\n",
    "from sklearn.ensemble import RandomForestClassifier\n",
    "from sklearn.ensemble import GradientBoostingClassifier\n",
    "from sklearn.linear_model import LogisticRegression\n",
    "import xgboost as xgb\n",
    "from sklearn.tree import DecisionTreeClassifier\n",
    "from sklearn.naive_bayes import GaussianNB\n",
    "\n",
    "\n",
    "from sklearn.model_selection import GridSearchCV, train_test_split\n",
    "from sklearn.model_selection import cross_val_score\n",
    "from sklearn.model_selection import KFold\n",
    "\n",
    "\n",
    "from sklearn.preprocessing import scale\n",
    "from sklearn.metrics import accuracy_score, roc_auc_score, roc_curve, auc\n",
    "from sklearn.metrics import mean_squared_error, confusion_matrix\n"
   ]
  },
  {
   "cell_type": "code",
   "execution_count": 17,
   "metadata": {},
   "outputs": [],
   "source": [
    "itog_val = {}\n",
    "k_fold = 3\n",
    "random_state = 777"
   ]
  },
  {
   "cell_type": "code",
   "execution_count": null,
   "metadata": {},
   "outputs": [],
   "source": []
  },
  {
   "cell_type": "code",
   "execution_count": 18,
   "metadata": {},
   "outputs": [],
   "source": [
    "X = train.drop('bins', axis=1)\n",
    "y = train['bins']"
   ]
  },
  {
   "cell_type": "code",
   "execution_count": 19,
   "metadata": {},
   "outputs": [
    {
     "name": "stdout",
     "output_type": "stream",
     "text": [
      "(20100, 208) (20100,)\n"
     ]
    }
   ],
   "source": [
    "X_train, X_test, y_train, y_test = train_test_split(X, y, test_size = 0.33, random_state = 777)\n",
    "print(X_train.shape, y_train.shape)"
   ]
  },
  {
   "cell_type": "code",
   "execution_count": 20,
   "metadata": {},
   "outputs": [],
   "source": [
    "\n",
    "\n",
    "\n",
    "def f_rmse_score(model, X_train, X_test, y_train, y_test):\n",
    "    #среднеквадратичная ошибка или среднеквадратичное отклонение оценщика измеряет среднее значение квадратов ошибок, \n",
    "    #то есть среднеквадратическую разницу между оценочными значениями и фактическим значением. \n",
    "    mse_train = mean_squared_error(y_true = y_train,\n",
    "                                  y_pred = model.predict(X_train))\n",
    "    mse_test = mean_squared_error(y_true = y_test,\n",
    "                                  y_pred = model.predict(X_test))\n",
    "    rmse_train = mse_train ** 0.5\n",
    "    rmse_test = mse_test ** 0.5\n",
    "    \n",
    "    print(\"The training RMSE for \" + str(model) + \" is: \" + str(rmse_train))\n",
    "    print(\"The testing RMSE for \" + str(model) + \" is: \" + str(rmse_test))\n",
    "    return (rmse_train, rmse_test)\n",
    "\n",
    "\n",
    "\n",
    "def f_err_predict_test_train(model, X_train, X_test, y_train, y_test):\n",
    "    # ошибки на предсказания меток моделью\n",
    "    \n",
    "    err_train = np.mean(y_train != model.predict(X_train))\n",
    "    err_test  = np.mean(y_test  != model.predict(X_test))\n",
    "    \n",
    "    print(\"ошибки на обучающей: {0:.2f}%\".format(err_train*100))\n",
    "    print(\"ошибки на тестовой: {0:.2f}%\".format(err_test*100))\n",
    "    \n",
    "    \n",
    "      \n",
    "def f_cross_val_scores(model, X, y, k_fold=3):\n",
    "    #\n",
    "    scoring = 'accuracy'\n",
    "    rslt = cross_val_score(model, X, y, cv=k_fold, n_jobs=-1, scoring=scoring)\n",
    "    print(f'Результат кроссвалидации = {rslt}')\n",
    "    #print(f'Среднее значение кроссвализации {rslt.mean()}')\n",
    "    \n",
    "    return rslt.mean()\n",
    "     "
   ]
  },
  {
   "cell_type": "code",
   "execution_count": null,
   "metadata": {},
   "outputs": [],
   "source": []
  },
  {
   "cell_type": "code",
   "execution_count": null,
   "metadata": {},
   "outputs": [],
   "source": []
  },
  {
   "cell_type": "code",
   "execution_count": 96,
   "metadata": {},
   "outputs": [
    {
     "name": "stdout",
     "output_type": "stream",
     "text": [
      "ошибки на обучающей: 57.07%\n",
      "ошибки на тестовой: 63.56%\n",
      "0.36444444444444446\n"
     ]
    }
   ],
   "source": [
    "\n",
    "# модель KNeighborsClassifier\n",
    "model_knc = KNeighborsClassifier(n_neighbors=33)\n",
    "predict = model_knc.fit(X_train, y_train).predict(X_test)\n",
    "\n",
    "#f_rmse_score(model_knc, X_train, X_test, y_train, y_test)\n",
    "\n",
    "f_err_predict_test_train(model_knc, X_train, X_test, y_train, y_test)\n",
    "#itog_val['KNeighborsClassifier'] = f_cross_val_scores(model_knc, X, y, k_fold)\n",
    "\n",
    "print(accuracy_score(y_test, predict))   #0.3644"
   ]
  },
  {
   "cell_type": "code",
   "execution_count": 22,
   "metadata": {},
   "outputs": [
    {
     "name": "stdout",
     "output_type": "stream",
     "text": [
      "ошибки на обучающей: 0.00%\n",
      "ошибки на тестовой: 53.40%\n",
      "Результат кроссвалидации = [0.4692 0.4602 0.4674]\n",
      "0.46595959595959596\n"
     ]
    }
   ],
   "source": [
    "\n",
    "# модель DecisionTreeClassifier\n",
    "model_dtc = DecisionTreeClassifier()\n",
    "predict = model_dtc.fit(X_train, y_train).predict(X_test)\n",
    "\n",
    "#f_rmse_score(model_dtc, X_train, X_test, y_train, y_test)\n",
    "\n",
    "f_err_predict_test_train(model_dtc, X_train, X_test, y_train, y_test)\n",
    "itog_val['DecisionTreeClassifier'] = f_cross_val_scores(model_dtc, X, y, k_fold)\n",
    "\n",
    "print(accuracy_score(y_test, predict))  #0.4659"
   ]
  },
  {
   "cell_type": "code",
   "execution_count": 117,
   "metadata": {},
   "outputs": [
    {
     "name": "stdout",
     "output_type": "stream",
     "text": [
      "ошибки на обучающей: 12.19%\n",
      "ошибки на тестовой: 40.76%\n",
      "0.5924242424242424\n"
     ]
    }
   ],
   "source": [
    "#model RandomForestClassifier\n",
    "model_rfc = RandomForestClassifier(max_depth = 33, \n",
    "                                   min_samples_leaf = 8,\n",
    "                                   min_samples_split = 2,\n",
    "                                   n_estimators = 600,\n",
    "                                   random_state=random_state)\n",
    "\n",
    "predict = model_rfc.fit(X_train, y_train).predict(X_test)\n",
    "\n",
    "#f_rmse_score(model_rfc, X_train, X_test, y_train, y_test)\n",
    "\n",
    "f_err_predict_test_train(model_rfc, X_train, X_test, y_train, y_test)\n",
    "#itog_val['RandomForestClassifier'] = f_cross_val_scores(model_rfc, X, y, k_fold)\n",
    "\n",
    "print(accuracy_score(y_test, predict))   #0.5924"
   ]
  },
  {
   "cell_type": "code",
   "execution_count": 115,
   "metadata": {},
   "outputs": [
    {
     "name": "stdout",
     "output_type": "stream",
     "text": [
      "ошибки на обучающей: 60.95%\n",
      "ошибки на тестовой: 61.93%\n",
      "0.3807070707070707\n"
     ]
    }
   ],
   "source": [
    "#model Naive Bayes\n",
    "model_nb = GaussianNB()\n",
    "predict = model_nb.fit(X_train, y_train).predict(X_test)\n",
    "\n",
    "#f_rmse_score(model_nb, X_train, X_test, y_train, y_test)\n",
    "\n",
    "f_err_predict_test_train(model_nb, X_train, X_test, y_train, y_test)\n",
    "#itog_val['NaiveBayes'] = f_cross_val_scores(model_nb, X, y, k_fold)\n",
    "\n",
    "print(accuracy_score(y_test, predict))  #0.38\n"
   ]
  },
  {
   "cell_type": "code",
   "execution_count": 85,
   "metadata": {},
   "outputs": [
    {
     "name": "stderr",
     "output_type": "stream",
     "text": [
      "/Library/Frameworks/Python.framework/Versions/3.7/lib/python3.7/site-packages/sklearn/linear_model/logistic.py:432: FutureWarning: Default solver will be changed to 'lbfgs' in 0.22. Specify a solver to silence this warning.\n",
      "  FutureWarning)\n",
      "/Library/Frameworks/Python.framework/Versions/3.7/lib/python3.7/site-packages/sklearn/linear_model/logistic.py:469: FutureWarning: Default multi_class will be changed to 'auto' in 0.22. Specify the multi_class option to silence this warning.\n",
      "  \"this warning.\", FutureWarning)\n"
     ]
    },
    {
     "name": "stdout",
     "output_type": "stream",
     "text": [
      "ошибки на обучающей: 43.64%\n",
      "ошибки на тестовой: 44.62%\n",
      "0.5538383838383838\n"
     ]
    }
   ],
   "source": [
    "# модель LogisticRegression\n",
    "model_lr = LogisticRegression(C=0.01, penalty='l2', tol=0.0001, random_state=random_state) \n",
    "\n",
    "predict = model_lr.fit(X_train, y_train).predict(X_test)\n",
    "\n",
    "#f_rmse_score(model_lr, X_train, X_test, y_train, y_test)\n",
    "f_err_predict_test_train(model_lr, X_train, X_test, y_train, y_test)\n",
    "#itog_val['LogisticRegression'] = f_cross_val_scores(model_lr, X, y, k_fold)\n",
    "\n",
    "print(accuracy_score(y_test, predict))  #0.5979"
   ]
  },
  {
   "cell_type": "code",
   "execution_count": 118,
   "metadata": {},
   "outputs": [
    {
     "name": "stdout",
     "output_type": "stream",
     "text": [
      "ошибки на обучающей: 23.06%\n",
      "ошибки на тестовой: 38.85%\n",
      "0.6115151515151516\n"
     ]
    }
   ],
   "source": [
    "\n",
    "# модель GradientBoostingClassifier\n",
    "model_gbc = GradientBoostingClassifier(learning_rate = 0.1, max_features = 21,\n",
    "                                       min_samples_leaf = 8, min_samples_split = 2,\n",
    "                                       n_estimators = 600, random_state=random_state)\n",
    "\n",
    "predict = model_gbc.fit(X_train, y_train).predict(X_test)\n",
    "\n",
    "#f_rmse_score(model_gbc, X_train, X_test, y_train, y_test)\n",
    "f_err_predict_test_train(model_gbc, X_train, X_test, y_train, y_test)\n",
    "#itog_val['GradientBoostingClassifier'] = f_cross_val_scores(model_gbc, X, y, k_fold)\n",
    "\n",
    "print(accuracy_score(y_test, predict)) # 0.6115"
   ]
  },
  {
   "cell_type": "code",
   "execution_count": 51,
   "metadata": {},
   "outputs": [
    {
     "name": "stdout",
     "output_type": "stream",
     "text": [
      "ошибки на обучающей: 0.00%\n",
      "ошибки на тестовой: 39.28%\n",
      "0.6071717171717171\n"
     ]
    }
   ],
   "source": [
    "\n",
    "# модель XGBClassifier\n",
    "\n",
    "model_xgbc = xgb.XGBClassifier(max_depth=10, min_child_weight=1,\n",
    "                              n_estimators=400, n_jobs=-1,\n",
    "                              verbose=1, learning_rate=0.15,\n",
    "                              seed=42, random_state = random_state)\n",
    "\n",
    "predict = model_xgbc.fit(X_train, y_train).predict(X_test)\n",
    "\n",
    "\n",
    "#f_rmse_score(model_xgbc, X_train, X_test, y_train, y_test)\n",
    "\n",
    "f_err_predict_test_train(model_xgbc, X_train, X_test, y_train, y_test)\n",
    "\n",
    "#itog_val['XGBClassifier'] = f_cross_val_scores(model_xgbc, X, y, k_fold)\n",
    "\n",
    "print(accuracy_score(y_test, predict))  #0.6071\n",
    "\n"
   ]
  },
  {
   "cell_type": "code",
   "execution_count": null,
   "metadata": {},
   "outputs": [],
   "source": []
  },
  {
   "cell_type": "code",
   "execution_count": 28,
   "metadata": {},
   "outputs": [
    {
     "data": {
      "text/plain": [
       "<matplotlib.axes._subplots.AxesSubplot at 0x12082e2b0>"
      ]
     },
     "execution_count": 28,
     "metadata": {},
     "output_type": "execute_result"
    }
   ],
   "source": [
    "# Перекресная кросвалидация моделей\n",
    "X.from_dict(data = itog_val, orient='index').plot(kind='bar', legend=False)"
   ]
  },
  {
   "cell_type": "code",
   "execution_count": null,
   "metadata": {},
   "outputs": [],
   "source": []
  },
  {
   "cell_type": "code",
   "execution_count": null,
   "metadata": {},
   "outputs": [],
   "source": []
  },
  {
   "cell_type": "code",
   "execution_count": null,
   "metadata": {},
   "outputs": [],
   "source": []
  },
  {
   "cell_type": "code",
   "execution_count": null,
   "metadata": {},
   "outputs": [],
   "source": []
  },
  {
   "cell_type": "markdown",
   "metadata": {},
   "source": [
    "Теперь подгрузим тестовые данные "
   ]
  },
  {
   "cell_type": "code",
   "execution_count": 119,
   "metadata": {},
   "outputs": [],
   "source": [
    "transactions_test=pd.read_csv('../data/transactions_test.csv')\n",
    "\n",
    "test_id=pd.read_csv('../data/test.csv')"
   ]
  },
  {
   "cell_type": "code",
   "execution_count": 120,
   "metadata": {},
   "outputs": [],
   "source": [
    "agg_features_test=transactions_test.groupby('client_id')['amount_rur'].agg(['sum','mean','std','min','max']).reset_index()"
   ]
  },
  {
   "cell_type": "code",
   "execution_count": 122,
   "metadata": {
    "scrolled": true
   },
   "outputs": [],
   "source": [
    "counter_df_test=transactions_test.groupby(['client_id','small_group'])['amount_rur'].count()"
   ]
  },
  {
   "cell_type": "code",
   "execution_count": 123,
   "metadata": {
    "scrolled": true
   },
   "outputs": [],
   "source": [
    "cat_counts_test=counter_df_test.reset_index().pivot(index='client_id', columns='small_group',values='amount_rur')"
   ]
  },
  {
   "cell_type": "code",
   "execution_count": 124,
   "metadata": {
    "scrolled": true
   },
   "outputs": [],
   "source": [
    "cat_counts_test=cat_counts_test.fillna(0)"
   ]
  },
  {
   "cell_type": "code",
   "execution_count": 125,
   "metadata": {},
   "outputs": [],
   "source": [
    "cat_counts_test.columns=['small_group_'+str(i) for i in cat_counts_test.columns]"
   ]
  },
  {
   "cell_type": "code",
   "execution_count": 126,
   "metadata": {},
   "outputs": [
    {
     "data": {
      "text/html": [
       "<div>\n",
       "<style scoped>\n",
       "    .dataframe tbody tr th:only-of-type {\n",
       "        vertical-align: middle;\n",
       "    }\n",
       "\n",
       "    .dataframe tbody tr th {\n",
       "        vertical-align: top;\n",
       "    }\n",
       "\n",
       "    .dataframe thead th {\n",
       "        text-align: right;\n",
       "    }\n",
       "</style>\n",
       "<table border=\"1\" class=\"dataframe\">\n",
       "  <thead>\n",
       "    <tr style=\"text-align: right;\">\n",
       "      <th></th>\n",
       "      <th>small_group_0</th>\n",
       "      <th>small_group_1</th>\n",
       "      <th>small_group_2</th>\n",
       "      <th>small_group_3</th>\n",
       "      <th>small_group_4</th>\n",
       "      <th>small_group_5</th>\n",
       "      <th>small_group_6</th>\n",
       "      <th>small_group_7</th>\n",
       "      <th>small_group_8</th>\n",
       "      <th>small_group_9</th>\n",
       "      <th>...</th>\n",
       "      <th>small_group_192</th>\n",
       "      <th>small_group_193</th>\n",
       "      <th>small_group_194</th>\n",
       "      <th>small_group_195</th>\n",
       "      <th>small_group_196</th>\n",
       "      <th>small_group_197</th>\n",
       "      <th>small_group_198</th>\n",
       "      <th>small_group_200</th>\n",
       "      <th>small_group_201</th>\n",
       "      <th>small_group_202</th>\n",
       "    </tr>\n",
       "    <tr>\n",
       "      <th>client_id</th>\n",
       "      <th></th>\n",
       "      <th></th>\n",
       "      <th></th>\n",
       "      <th></th>\n",
       "      <th></th>\n",
       "      <th></th>\n",
       "      <th></th>\n",
       "      <th></th>\n",
       "      <th></th>\n",
       "      <th></th>\n",
       "      <th></th>\n",
       "      <th></th>\n",
       "      <th></th>\n",
       "      <th></th>\n",
       "      <th></th>\n",
       "      <th></th>\n",
       "      <th></th>\n",
       "      <th></th>\n",
       "      <th></th>\n",
       "      <th></th>\n",
       "      <th></th>\n",
       "    </tr>\n",
       "  </thead>\n",
       "  <tbody>\n",
       "    <tr>\n",
       "      <td>0</td>\n",
       "      <td>0.0</td>\n",
       "      <td>226.0</td>\n",
       "      <td>1.0</td>\n",
       "      <td>36.0</td>\n",
       "      <td>9.0</td>\n",
       "      <td>0.0</td>\n",
       "      <td>0.0</td>\n",
       "      <td>0.0</td>\n",
       "      <td>2.0</td>\n",
       "      <td>20.0</td>\n",
       "      <td>...</td>\n",
       "      <td>0.0</td>\n",
       "      <td>0.0</td>\n",
       "      <td>0.0</td>\n",
       "      <td>0.0</td>\n",
       "      <td>0.0</td>\n",
       "      <td>0.0</td>\n",
       "      <td>0.0</td>\n",
       "      <td>0.0</td>\n",
       "      <td>0.0</td>\n",
       "      <td>0.0</td>\n",
       "    </tr>\n",
       "    <tr>\n",
       "      <td>1</td>\n",
       "      <td>30.0</td>\n",
       "      <td>326.0</td>\n",
       "      <td>0.0</td>\n",
       "      <td>40.0</td>\n",
       "      <td>56.0</td>\n",
       "      <td>0.0</td>\n",
       "      <td>0.0</td>\n",
       "      <td>0.0</td>\n",
       "      <td>0.0</td>\n",
       "      <td>60.0</td>\n",
       "      <td>...</td>\n",
       "      <td>0.0</td>\n",
       "      <td>0.0</td>\n",
       "      <td>0.0</td>\n",
       "      <td>0.0</td>\n",
       "      <td>0.0</td>\n",
       "      <td>0.0</td>\n",
       "      <td>0.0</td>\n",
       "      <td>0.0</td>\n",
       "      <td>0.0</td>\n",
       "      <td>0.0</td>\n",
       "    </tr>\n",
       "    <tr>\n",
       "      <td>2</td>\n",
       "      <td>21.0</td>\n",
       "      <td>242.0</td>\n",
       "      <td>1.0</td>\n",
       "      <td>50.0</td>\n",
       "      <td>48.0</td>\n",
       "      <td>4.0</td>\n",
       "      <td>0.0</td>\n",
       "      <td>6.0</td>\n",
       "      <td>1.0</td>\n",
       "      <td>21.0</td>\n",
       "      <td>...</td>\n",
       "      <td>0.0</td>\n",
       "      <td>0.0</td>\n",
       "      <td>0.0</td>\n",
       "      <td>0.0</td>\n",
       "      <td>0.0</td>\n",
       "      <td>0.0</td>\n",
       "      <td>0.0</td>\n",
       "      <td>0.0</td>\n",
       "      <td>0.0</td>\n",
       "      <td>0.0</td>\n",
       "    </tr>\n",
       "    <tr>\n",
       "      <td>3</td>\n",
       "      <td>0.0</td>\n",
       "      <td>156.0</td>\n",
       "      <td>83.0</td>\n",
       "      <td>48.0</td>\n",
       "      <td>31.0</td>\n",
       "      <td>2.0</td>\n",
       "      <td>0.0</td>\n",
       "      <td>1.0</td>\n",
       "      <td>2.0</td>\n",
       "      <td>27.0</td>\n",
       "      <td>...</td>\n",
       "      <td>0.0</td>\n",
       "      <td>0.0</td>\n",
       "      <td>0.0</td>\n",
       "      <td>0.0</td>\n",
       "      <td>0.0</td>\n",
       "      <td>0.0</td>\n",
       "      <td>0.0</td>\n",
       "      <td>0.0</td>\n",
       "      <td>0.0</td>\n",
       "      <td>0.0</td>\n",
       "    </tr>\n",
       "    <tr>\n",
       "      <td>5</td>\n",
       "      <td>16.0</td>\n",
       "      <td>398.0</td>\n",
       "      <td>1.0</td>\n",
       "      <td>23.0</td>\n",
       "      <td>25.0</td>\n",
       "      <td>0.0</td>\n",
       "      <td>0.0</td>\n",
       "      <td>0.0</td>\n",
       "      <td>5.0</td>\n",
       "      <td>29.0</td>\n",
       "      <td>...</td>\n",
       "      <td>0.0</td>\n",
       "      <td>0.0</td>\n",
       "      <td>0.0</td>\n",
       "      <td>0.0</td>\n",
       "      <td>0.0</td>\n",
       "      <td>0.0</td>\n",
       "      <td>0.0</td>\n",
       "      <td>0.0</td>\n",
       "      <td>0.0</td>\n",
       "      <td>0.0</td>\n",
       "    </tr>\n",
       "  </tbody>\n",
       "</table>\n",
       "<p>5 rows × 202 columns</p>\n",
       "</div>"
      ],
      "text/plain": [
       "           small_group_0  small_group_1  small_group_2  small_group_3  \\\n",
       "client_id                                                               \n",
       "0                    0.0          226.0            1.0           36.0   \n",
       "1                   30.0          326.0            0.0           40.0   \n",
       "2                   21.0          242.0            1.0           50.0   \n",
       "3                    0.0          156.0           83.0           48.0   \n",
       "5                   16.0          398.0            1.0           23.0   \n",
       "\n",
       "           small_group_4  small_group_5  small_group_6  small_group_7  \\\n",
       "client_id                                                               \n",
       "0                    9.0            0.0            0.0            0.0   \n",
       "1                   56.0            0.0            0.0            0.0   \n",
       "2                   48.0            4.0            0.0            6.0   \n",
       "3                   31.0            2.0            0.0            1.0   \n",
       "5                   25.0            0.0            0.0            0.0   \n",
       "\n",
       "           small_group_8  small_group_9  ...  small_group_192  \\\n",
       "client_id                                ...                    \n",
       "0                    2.0           20.0  ...              0.0   \n",
       "1                    0.0           60.0  ...              0.0   \n",
       "2                    1.0           21.0  ...              0.0   \n",
       "3                    2.0           27.0  ...              0.0   \n",
       "5                    5.0           29.0  ...              0.0   \n",
       "\n",
       "           small_group_193  small_group_194  small_group_195  small_group_196  \\\n",
       "client_id                                                                       \n",
       "0                      0.0              0.0              0.0              0.0   \n",
       "1                      0.0              0.0              0.0              0.0   \n",
       "2                      0.0              0.0              0.0              0.0   \n",
       "3                      0.0              0.0              0.0              0.0   \n",
       "5                      0.0              0.0              0.0              0.0   \n",
       "\n",
       "           small_group_197  small_group_198  small_group_200  small_group_201  \\\n",
       "client_id                                                                       \n",
       "0                      0.0              0.0              0.0              0.0   \n",
       "1                      0.0              0.0              0.0              0.0   \n",
       "2                      0.0              0.0              0.0              0.0   \n",
       "3                      0.0              0.0              0.0              0.0   \n",
       "5                      0.0              0.0              0.0              0.0   \n",
       "\n",
       "           small_group_202  \n",
       "client_id                   \n",
       "0                      0.0  \n",
       "1                      0.0  \n",
       "2                      0.0  \n",
       "3                      0.0  \n",
       "5                      0.0  \n",
       "\n",
       "[5 rows x 202 columns]"
      ]
     },
     "execution_count": 126,
     "metadata": {},
     "output_type": "execute_result"
    }
   ],
   "source": [
    "cat_counts_test.head()"
   ]
  },
  {
   "cell_type": "code",
   "execution_count": 127,
   "metadata": {},
   "outputs": [],
   "source": [
    "test = pd.merge(test_id,agg_features_test,on='client_id')"
   ]
  },
  {
   "cell_type": "code",
   "execution_count": 128,
   "metadata": {},
   "outputs": [],
   "source": [
    "test = pd.merge(test,cat_counts_test.reset_index(),on='client_id')"
   ]
  },
  {
   "cell_type": "code",
   "execution_count": 129,
   "metadata": {},
   "outputs": [],
   "source": [
    "common_features = list(set(train.columns).intersection(set(test.columns)))"
   ]
  },
  {
   "cell_type": "code",
   "execution_count": 130,
   "metadata": {},
   "outputs": [],
   "source": [
    "y_train=train['bins']\n",
    "X_train=train[common_features]\n",
    "X_test=test[common_features]"
   ]
  },
  {
   "cell_type": "code",
   "execution_count": null,
   "metadata": {},
   "outputs": [],
   "source": []
  },
  {
   "cell_type": "code",
   "execution_count": null,
   "metadata": {},
   "outputs": [],
   "source": []
  },
  {
   "cell_type": "code",
   "execution_count": 131,
   "metadata": {},
   "outputs": [
    {
     "name": "stdout",
     "output_type": "stream",
     "text": [
      "CPU times: user 55.1 s, sys: 688 ms, total: 55.8 s\n",
      "Wall time: 1min\n"
     ]
    }
   ],
   "source": [
    "%%time\n",
    "predict = model_rfc.fit(X_train, y_train).predict(X_test)\n"
   ]
  },
  {
   "cell_type": "code",
   "execution_count": null,
   "metadata": {},
   "outputs": [],
   "source": []
  },
  {
   "cell_type": "markdown",
   "metadata": {},
   "source": [
    "### Подготовим файл для отправки в систему"
   ]
  },
  {
   "cell_type": "code",
   "execution_count": 132,
   "metadata": {},
   "outputs": [
    {
     "data": {
      "text/html": [
       "<div>\n",
       "<style scoped>\n",
       "    .dataframe tbody tr th:only-of-type {\n",
       "        vertical-align: middle;\n",
       "    }\n",
       "\n",
       "    .dataframe tbody tr th {\n",
       "        vertical-align: top;\n",
       "    }\n",
       "\n",
       "    .dataframe thead th {\n",
       "        text-align: right;\n",
       "    }\n",
       "</style>\n",
       "<table border=\"1\" class=\"dataframe\">\n",
       "  <thead>\n",
       "    <tr style=\"text-align: right;\">\n",
       "      <th></th>\n",
       "      <th>bins</th>\n",
       "    </tr>\n",
       "    <tr>\n",
       "      <th>client_id</th>\n",
       "      <th></th>\n",
       "    </tr>\n",
       "  </thead>\n",
       "  <tbody>\n",
       "    <tr>\n",
       "      <td>28571</td>\n",
       "      <td>0</td>\n",
       "    </tr>\n",
       "    <tr>\n",
       "      <td>27046</td>\n",
       "      <td>2</td>\n",
       "    </tr>\n",
       "    <tr>\n",
       "      <td>13240</td>\n",
       "      <td>3</td>\n",
       "    </tr>\n",
       "    <tr>\n",
       "      <td>19974</td>\n",
       "      <td>0</td>\n",
       "    </tr>\n",
       "    <tr>\n",
       "      <td>10505</td>\n",
       "      <td>1</td>\n",
       "    </tr>\n",
       "  </tbody>\n",
       "</table>\n",
       "</div>"
      ],
      "text/plain": [
       "           bins\n",
       "client_id      \n",
       "28571         0\n",
       "27046         2\n",
       "13240         3\n",
       "19974         0\n",
       "10505         1"
      ]
     },
     "execution_count": 132,
     "metadata": {},
     "output_type": "execute_result"
    }
   ],
   "source": [
    "result = pd.DataFrame({'bins': predict}, index=test.client_id)\n",
    "result.head()"
   ]
  },
  {
   "cell_type": "code",
   "execution_count": 133,
   "metadata": {},
   "outputs": [
    {
     "name": "stdout",
     "output_type": "stream",
     "text": [
      "../data_out/predict_29_12.csv\n"
     ]
    }
   ],
   "source": [
    "from datetime import datetime\n",
    "import os\n",
    "\n",
    "\n",
    "date_current = datetime.today().strftime('%d_%m')\n",
    "file_name = '../data_out/predict_{}.csv'.format(date_current)\n",
    "\n",
    "if not os.path.exists('../data_out'):\n",
    "    os.makedirs('../data_out')\n",
    "\n",
    "print(file_name)\n",
    "result.to_csv(file_name, index=True)"
   ]
  },
  {
   "cell_type": "code",
   "execution_count": null,
   "metadata": {},
   "outputs": [],
   "source": []
  }
 ],
 "metadata": {
  "kernelspec": {
   "display_name": "Python 3",
   "language": "python",
   "name": "python3"
  },
  "language_info": {
   "codemirror_mode": {
    "name": "ipython",
    "version": 3
   },
   "file_extension": ".py",
   "mimetype": "text/x-python",
   "name": "python",
   "nbconvert_exporter": "python",
   "pygments_lexer": "ipython3",
   "version": "3.7.2"
  }
 },
 "nbformat": 4,
 "nbformat_minor": 2
}
