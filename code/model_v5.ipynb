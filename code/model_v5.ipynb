{
 "cells": [
  {
   "cell_type": "code",
   "execution_count": 3,
   "metadata": {},
   "outputs": [],
   "source": [
    "import pandas as pd"
   ]
  },
  {
   "cell_type": "markdown",
   "metadata": {},
   "source": [
    "Считаем данные по транзакциям и правильные метки возрастных категорий."
   ]
  },
  {
   "cell_type": "code",
   "execution_count": 4,
   "metadata": {},
   "outputs": [],
   "source": [
    "transactions_train = pd.read_csv('../data_in/transactions_train.csv')\n",
    "train_target = pd.read_csv('../data_in/train_target.csv')"
   ]
  },
  {
   "cell_type": "code",
   "execution_count": 5,
   "metadata": {},
   "outputs": [],
   "source": [
    "small_group = pd.read_csv('../data_in/small_group_description.csv')"
   ]
  },
  {
   "cell_type": "code",
   "execution_count": 6,
   "metadata": {},
   "outputs": [],
   "source": [
    "transactions_test = pd.read_csv('../data_in/transactions_test.csv')\n",
    "test_id = pd.read_csv('../data_in/test.csv')"
   ]
  },
  {
   "cell_type": "markdown",
   "metadata": {},
   "source": [
    "* client_id - уникальный идентификатор клиента\n",
    "* trans_date - дата совершения транзакции\n",
    "* small_group - категория покупки\n",
    "* amount_rur - сумма транзакции"
   ]
  },
  {
   "cell_type": "code",
   "execution_count": 7,
   "metadata": {},
   "outputs": [
    {
     "data": {
      "text/html": [
       "<div>\n",
       "<style scoped>\n",
       "    .dataframe tbody tr th:only-of-type {\n",
       "        vertical-align: middle;\n",
       "    }\n",
       "\n",
       "    .dataframe tbody tr th {\n",
       "        vertical-align: top;\n",
       "    }\n",
       "\n",
       "    .dataframe thead th {\n",
       "        text-align: right;\n",
       "    }\n",
       "</style>\n",
       "<table border=\"1\" class=\"dataframe\">\n",
       "  <thead>\n",
       "    <tr style=\"text-align: right;\">\n",
       "      <th></th>\n",
       "      <th>client_id</th>\n",
       "      <th>trans_date</th>\n",
       "      <th>small_group</th>\n",
       "      <th>amount_rur</th>\n",
       "    </tr>\n",
       "  </thead>\n",
       "  <tbody>\n",
       "    <tr>\n",
       "      <th>0</th>\n",
       "      <td>33172</td>\n",
       "      <td>6</td>\n",
       "      <td>4</td>\n",
       "      <td>71.463</td>\n",
       "    </tr>\n",
       "    <tr>\n",
       "      <th>1</th>\n",
       "      <td>33172</td>\n",
       "      <td>6</td>\n",
       "      <td>35</td>\n",
       "      <td>45.017</td>\n",
       "    </tr>\n",
       "    <tr>\n",
       "      <th>2</th>\n",
       "      <td>33172</td>\n",
       "      <td>8</td>\n",
       "      <td>11</td>\n",
       "      <td>13.887</td>\n",
       "    </tr>\n",
       "    <tr>\n",
       "      <th>3</th>\n",
       "      <td>33172</td>\n",
       "      <td>9</td>\n",
       "      <td>11</td>\n",
       "      <td>15.983</td>\n",
       "    </tr>\n",
       "    <tr>\n",
       "      <th>4</th>\n",
       "      <td>33172</td>\n",
       "      <td>10</td>\n",
       "      <td>11</td>\n",
       "      <td>21.341</td>\n",
       "    </tr>\n",
       "  </tbody>\n",
       "</table>\n",
       "</div>"
      ],
      "text/plain": [
       "   client_id  trans_date  small_group  amount_rur\n",
       "0      33172           6            4      71.463\n",
       "1      33172           6           35      45.017\n",
       "2      33172           8           11      13.887\n",
       "3      33172           9           11      15.983\n",
       "4      33172          10           11      21.341"
      ]
     },
     "execution_count": 7,
     "metadata": {},
     "output_type": "execute_result"
    }
   ],
   "source": [
    "transactions_train.head()"
   ]
  },
  {
   "cell_type": "code",
   "execution_count": 8,
   "metadata": {},
   "outputs": [
    {
     "data": {
      "text/html": [
       "<div>\n",
       "<style scoped>\n",
       "    .dataframe tbody tr th:only-of-type {\n",
       "        vertical-align: middle;\n",
       "    }\n",
       "\n",
       "    .dataframe tbody tr th {\n",
       "        vertical-align: top;\n",
       "    }\n",
       "\n",
       "    .dataframe thead th {\n",
       "        text-align: right;\n",
       "    }\n",
       "</style>\n",
       "<table border=\"1\" class=\"dataframe\">\n",
       "  <thead>\n",
       "    <tr style=\"text-align: right;\">\n",
       "      <th></th>\n",
       "      <th>client_id</th>\n",
       "      <th>bins</th>\n",
       "    </tr>\n",
       "  </thead>\n",
       "  <tbody>\n",
       "    <tr>\n",
       "      <th>0</th>\n",
       "      <td>24662</td>\n",
       "      <td>2</td>\n",
       "    </tr>\n",
       "    <tr>\n",
       "      <th>1</th>\n",
       "      <td>1046</td>\n",
       "      <td>0</td>\n",
       "    </tr>\n",
       "    <tr>\n",
       "      <th>2</th>\n",
       "      <td>34089</td>\n",
       "      <td>2</td>\n",
       "    </tr>\n",
       "    <tr>\n",
       "      <th>3</th>\n",
       "      <td>34848</td>\n",
       "      <td>1</td>\n",
       "    </tr>\n",
       "    <tr>\n",
       "      <th>4</th>\n",
       "      <td>47076</td>\n",
       "      <td>3</td>\n",
       "    </tr>\n",
       "  </tbody>\n",
       "</table>\n",
       "</div>"
      ],
      "text/plain": [
       "   client_id  bins\n",
       "0      24662     2\n",
       "1       1046     0\n",
       "2      34089     2\n",
       "3      34848     1\n",
       "4      47076     3"
      ]
     },
     "execution_count": 8,
     "metadata": {},
     "output_type": "execute_result"
    }
   ],
   "source": [
    "train_target.head()"
   ]
  },
  {
   "cell_type": "code",
   "execution_count": 9,
   "metadata": {},
   "outputs": [
    {
     "data": {
      "text/html": [
       "<div>\n",
       "<style scoped>\n",
       "    .dataframe tbody tr th:only-of-type {\n",
       "        vertical-align: middle;\n",
       "    }\n",
       "\n",
       "    .dataframe tbody tr th {\n",
       "        vertical-align: top;\n",
       "    }\n",
       "\n",
       "    .dataframe thead th {\n",
       "        text-align: right;\n",
       "    }\n",
       "</style>\n",
       "<table border=\"1\" class=\"dataframe\">\n",
       "  <thead>\n",
       "    <tr style=\"text-align: right;\">\n",
       "      <th></th>\n",
       "      <th>small_group</th>\n",
       "      <th>small_group_code</th>\n",
       "    </tr>\n",
       "  </thead>\n",
       "  <tbody>\n",
       "    <tr>\n",
       "      <th>0</th>\n",
       "      <td>Зоотовары</td>\n",
       "      <td>0</td>\n",
       "    </tr>\n",
       "    <tr>\n",
       "      <th>1</th>\n",
       "      <td>Сетевые супермаркеты и продуктовые магазины</td>\n",
       "      <td>1</td>\n",
       "    </tr>\n",
       "    <tr>\n",
       "      <th>2</th>\n",
       "      <td>Обслуживание существующего автомобиля (АЗС)</td>\n",
       "      <td>2</td>\n",
       "    </tr>\n",
       "    <tr>\n",
       "      <th>3</th>\n",
       "      <td>Оплата телефона и связи</td>\n",
       "      <td>3</td>\n",
       "    </tr>\n",
       "    <tr>\n",
       "      <th>4</th>\n",
       "      <td>Аптеки</td>\n",
       "      <td>4</td>\n",
       "    </tr>\n",
       "  </tbody>\n",
       "</table>\n",
       "</div>"
      ],
      "text/plain": [
       "                                   small_group  small_group_code\n",
       "0                                    Зоотовары                 0\n",
       "1  Сетевые супермаркеты и продуктовые магазины                 1\n",
       "2  Обслуживание существующего автомобиля (АЗС)                 2\n",
       "3                      Оплата телефона и связи                 3\n",
       "4                                       Аптеки                 4"
      ]
     },
     "execution_count": 9,
     "metadata": {},
     "output_type": "execute_result"
    }
   ],
   "source": [
    "small_group.head()"
   ]
  },
  {
   "cell_type": "markdown",
   "metadata": {},
   "source": [
    "тестовый данные"
   ]
  },
  {
   "cell_type": "code",
   "execution_count": null,
   "metadata": {
    "scrolled": true
   },
   "outputs": [],
   "source": []
  },
  {
   "cell_type": "code",
   "execution_count": 67,
   "metadata": {},
   "outputs": [
    {
     "data": {
      "text/plain": [
       "30000"
      ]
     },
     "execution_count": 67,
     "metadata": {},
     "output_type": "execute_result"
    }
   ],
   "source": [
    "train_i = list(set(train_target['client_id']))\n",
    "len(train_i)"
   ]
  },
  {
   "cell_type": "code",
   "execution_count": 68,
   "metadata": {},
   "outputs": [
    {
     "data": {
      "text/plain": [
       "20000"
      ]
     },
     "execution_count": 68,
     "metadata": {},
     "output_type": "execute_result"
    }
   ],
   "source": [
    "test_i = list(set(test_id['client_id']))\n",
    "len(test_i)"
   ]
  },
  {
   "cell_type": "code",
   "execution_count": 12,
   "metadata": {},
   "outputs": [],
   "source": [
    "\n",
    "def f_get_clients(df_transactions):\n",
    "    \"\"\"список клиентов\"\"\"\n",
    "    \n",
    "    # список клиентов\n",
    "    test_i = list(set(df_transactions['client_id']))\n",
    "    #df по клиентам\n",
    "    test_f = pd.DataFrame(test_i, columns=['client_id'])\n",
    "    return test_f"
   ]
  },
  {
   "cell_type": "code",
   "execution_count": 13,
   "metadata": {},
   "outputs": [],
   "source": [
    "def f_agg_unique(df, list_clients):\n",
    "    \"\"\"\"\"\"\n",
    "    df_unique = df.groupby('client_id').nunique()\n",
    "    df_unique['client_id'] = list_clients\n",
    "    df_sum = df.groupby('client_id').sum()\n",
    "    df_sum['client_id'] = list_clients\n",
    "    df_count = df.groupby('client_id').count()\n",
    "    df_count['client_id'] = list_clients\n",
    "    \n",
    "    # сумма потраченая за все время\n",
    "    df_unique['df_sum_amo'] = df_sum['amount_rur']\n",
    "    # количество всех платежей\n",
    "    df_unique['df_count_date'] = df_count['trans_date']\n",
    "    \n",
    "    #df_unique = df_unique.reset_index(drop=True)\n",
    "\n",
    "    return df_unique"
   ]
  },
  {
   "cell_type": "code",
   "execution_count": 14,
   "metadata": {},
   "outputs": [],
   "source": [
    "def f_agg_unique_inday(df):\n",
    "    \"\"\"\"\"\"\n",
    "    #(сколько трат на одну услугу)\n",
    "    df['sum_d_small'] = df['df_sum_amo'] / df['small_group']\n",
    "    #(траты в день)\n",
    "    df['sum_d_date'] = df['df_sum_amo'] / df['trans_date']\n",
    "    #(сколько раз в день оплачивал)\n",
    "    df['amount_d_trans'] = df['df_count_date'] / df['trans_date']\n",
    "    #(сколько услуг в день)\n",
    "    df['amount_d_small'] = df['df_count_date'] / df['small_group']\n",
    "    \n",
    "    return df"
   ]
  },
  {
   "cell_type": "code",
   "execution_count": 15,
   "metadata": {},
   "outputs": [],
   "source": [
    "def f_agg_features(df_transactions):\n",
    "    \"\"\"Посчитаем по каждому клиенту самые простые аггрегационные признаки.\"\"\"\n",
    "    \n",
    "    agg_features = df_transactions.groupby('client_id')['amount_rur'].agg(['sum','mean','std','min','max']).reset_index()\n",
    "    \n",
    "    return agg_features"
   ]
  },
  {
   "cell_type": "code",
   "execution_count": 16,
   "metadata": {},
   "outputs": [],
   "source": [
    "def f_cat_counts_train(df_transactions):\n",
    "    \"\"\"Посчитаем для каждого клиента количество транзакций по каждой категории.\"\"\"\n",
    "    counter_df_train=df_transactions.groupby(['client_id','small_group'])['amount_rur'].count()\n",
    "    cat_counts_train=counter_df_train.reset_index().pivot(index='client_id',\n",
    "                                                          columns='small_group',\n",
    "                                                          values='amount_rur')\n",
    "    cat_counts_train=cat_counts_train.fillna(0)\n",
    "    cat_counts_train.columns=['small_group_'+str(i) for i in cat_counts_train.columns]\n",
    "    \n",
    "    return cat_counts_train"
   ]
  },
  {
   "cell_type": "code",
   "execution_count": 17,
   "metadata": {},
   "outputs": [],
   "source": [
    "def f_normalize(df, list_columns):\n",
    "    \"\"\"#Нормализация количественных признаков\"\"\"\n",
    "    #df = df[list_columns]\n",
    "    df[list_columns] = (df[list_columns] - df[list_columns].mean()) / df[list_columns].std()\n",
    "    return df"
   ]
  },
  {
   "cell_type": "code",
   "execution_count": 18,
   "metadata": {},
   "outputs": [],
   "source": [
    "def f_smallcat_TF(df_in):\n",
    "    \"\"\"small cat to True False\"\"\"\n",
    "    df = df_in.copy()\n",
    "    columns = df.columns\n",
    "    for col in columns:\n",
    "        df[col] = df[col].apply(lambda x: 1 if x > 0 else 0)\n",
    "        \n",
    "    df = df.astype('uint8')\n",
    "    return df"
   ]
  },
  {
   "cell_type": "code",
   "execution_count": 19,
   "metadata": {},
   "outputs": [],
   "source": [
    "# функция находит пустые сроки и столбцы и выводит их\n",
    "def f_data_is_npnan_colrow(datafile = 'df'):\n",
    "    # функция находит пустые сроки и столбцы и выводит их\n",
    "    col_mask = datafile.isnull().any(axis=0) \n",
    "    row_mask = datafile.isnull().any(axis=1)\n",
    "    print(datafile.loc[row_mask,col_mask])"
   ]
  },
  {
   "cell_type": "code",
   "execution_count": 20,
   "metadata": {},
   "outputs": [],
   "source": [
    "# объединение тестовых и тренироваочных фреймов\n",
    "df_full = pd.concat([transactions_train, transactions_test], ignore_index=True)"
   ]
  },
  {
   "cell_type": "code",
   "execution_count": null,
   "metadata": {},
   "outputs": [],
   "source": []
  },
  {
   "cell_type": "code",
   "execution_count": 69,
   "metadata": {},
   "outputs": [],
   "source": [
    "clients_list = list(set(df_full['client_id']))\n",
    "df_agg_unique = f_agg_unique(df_full, clients_list)\n",
    "df_agg_unique = df_agg_unique.reset_index(drop=True)"
   ]
  },
  {
   "cell_type": "code",
   "execution_count": 70,
   "metadata": {},
   "outputs": [],
   "source": [
    "agg_unique = df_agg_unique.copy()\n",
    "agg_unique = f_agg_unique_inday(agg_unique)"
   ]
  },
  {
   "cell_type": "code",
   "execution_count": 71,
   "metadata": {},
   "outputs": [],
   "source": [
    "agg_features = f_agg_features(df_full)"
   ]
  },
  {
   "cell_type": "code",
   "execution_count": 72,
   "metadata": {},
   "outputs": [],
   "source": [
    "cat_counts_train = f_cat_counts_train(df_full)"
   ]
  },
  {
   "cell_type": "code",
   "execution_count": 73,
   "metadata": {},
   "outputs": [],
   "source": [
    "cat_counts_train2 = f_smallcat_TF(cat_counts_train)\n",
    "cat_counts_train2['client_id'] = clients_list\n",
    "cat_counts_train2 = cat_counts_train2.reset_index(drop=True)"
   ]
  },
  {
   "cell_type": "code",
   "execution_count": null,
   "metadata": {},
   "outputs": [],
   "source": []
  },
  {
   "cell_type": "markdown",
   "metadata": {},
   "source": [
    "Далее соединим все файлы в один датафрейм с таргетом."
   ]
  },
  {
   "cell_type": "code",
   "execution_count": 74,
   "metadata": {},
   "outputs": [],
   "source": [
    "train = pd.merge(train_target, agg_features, on='client_id')"
   ]
  },
  {
   "cell_type": "code",
   "execution_count": 76,
   "metadata": {},
   "outputs": [],
   "source": [
    "train = pd.merge(train, cat_counts_train.reset_index(), on='client_id')"
   ]
  },
  {
   "cell_type": "code",
   "execution_count": 162,
   "metadata": {},
   "outputs": [],
   "source": [
    "train = pd.merge(train, agg_unique, on='client_id')"
   ]
  },
  {
   "cell_type": "code",
   "execution_count": null,
   "metadata": {},
   "outputs": [],
   "source": []
  },
  {
   "cell_type": "code",
   "execution_count": 52,
   "metadata": {},
   "outputs": [],
   "source": [
    "train = f_normalize(train, train.columns[2:])"
   ]
  },
  {
   "cell_type": "code",
   "execution_count": 163,
   "metadata": {},
   "outputs": [
    {
     "data": {
      "text/html": [
       "<div>\n",
       "<style scoped>\n",
       "    .dataframe tbody tr th:only-of-type {\n",
       "        vertical-align: middle;\n",
       "    }\n",
       "\n",
       "    .dataframe tbody tr th {\n",
       "        vertical-align: top;\n",
       "    }\n",
       "\n",
       "    .dataframe thead th {\n",
       "        text-align: right;\n",
       "    }\n",
       "</style>\n",
       "<table border=\"1\" class=\"dataframe\">\n",
       "  <thead>\n",
       "    <tr style=\"text-align: right;\">\n",
       "      <th></th>\n",
       "      <th>client_id</th>\n",
       "      <th>bins</th>\n",
       "      <th>sum</th>\n",
       "      <th>mean</th>\n",
       "      <th>std</th>\n",
       "      <th>min</th>\n",
       "      <th>max</th>\n",
       "      <th>small_group_0</th>\n",
       "      <th>small_group_1</th>\n",
       "      <th>small_group_2</th>\n",
       "      <th>...</th>\n",
       "      <th>small_group_203</th>\n",
       "      <th>trans_date</th>\n",
       "      <th>small_group</th>\n",
       "      <th>amount_rur</th>\n",
       "      <th>df_sum_amo</th>\n",
       "      <th>df_count_date</th>\n",
       "      <th>sum_d_small</th>\n",
       "      <th>sum_d_date</th>\n",
       "      <th>amount_d_trans</th>\n",
       "      <th>amount_d_small</th>\n",
       "    </tr>\n",
       "  </thead>\n",
       "  <tbody>\n",
       "    <tr>\n",
       "      <th>0</th>\n",
       "      <td>24662</td>\n",
       "      <td>2</td>\n",
       "      <td>30254.011</td>\n",
       "      <td>34.774725</td>\n",
       "      <td>72.037354</td>\n",
       "      <td>0.074</td>\n",
       "      <td>1227.314</td>\n",
       "      <td>0.0</td>\n",
       "      <td>174.0</td>\n",
       "      <td>2.0</td>\n",
       "      <td>...</td>\n",
       "      <td>0.0</td>\n",
       "      <td>491</td>\n",
       "      <td>33</td>\n",
       "      <td>740</td>\n",
       "      <td>30254.011</td>\n",
       "      <td>870</td>\n",
       "      <td>916.788212</td>\n",
       "      <td>61.617130</td>\n",
       "      <td>1.771894</td>\n",
       "      <td>26.363636</td>\n",
       "    </tr>\n",
       "    <tr>\n",
       "      <th>1</th>\n",
       "      <td>1046</td>\n",
       "      <td>0</td>\n",
       "      <td>42548.570</td>\n",
       "      <td>52.015367</td>\n",
       "      <td>106.540962</td>\n",
       "      <td>0.550</td>\n",
       "      <td>1210.506</td>\n",
       "      <td>1.0</td>\n",
       "      <td>187.0</td>\n",
       "      <td>61.0</td>\n",
       "      <td>...</td>\n",
       "      <td>0.0</td>\n",
       "      <td>469</td>\n",
       "      <td>42</td>\n",
       "      <td>636</td>\n",
       "      <td>42548.570</td>\n",
       "      <td>818</td>\n",
       "      <td>1013.061190</td>\n",
       "      <td>90.721898</td>\n",
       "      <td>1.744136</td>\n",
       "      <td>19.476190</td>\n",
       "    </tr>\n",
       "    <tr>\n",
       "      <th>2</th>\n",
       "      <td>34089</td>\n",
       "      <td>2</td>\n",
       "      <td>26842.816</td>\n",
       "      <td>34.325852</td>\n",
       "      <td>59.927450</td>\n",
       "      <td>0.043</td>\n",
       "      <td>782.641</td>\n",
       "      <td>0.0</td>\n",
       "      <td>372.0</td>\n",
       "      <td>0.0</td>\n",
       "      <td>...</td>\n",
       "      <td>0.0</td>\n",
       "      <td>501</td>\n",
       "      <td>35</td>\n",
       "      <td>649</td>\n",
       "      <td>26842.816</td>\n",
       "      <td>782</td>\n",
       "      <td>766.937600</td>\n",
       "      <td>53.578475</td>\n",
       "      <td>1.560878</td>\n",
       "      <td>22.342857</td>\n",
       "    </tr>\n",
       "    <tr>\n",
       "      <th>3</th>\n",
       "      <td>34848</td>\n",
       "      <td>1</td>\n",
       "      <td>15773.126</td>\n",
       "      <td>16.160990</td>\n",
       "      <td>14.224936</td>\n",
       "      <td>0.043</td>\n",
       "      <td>109.590</td>\n",
       "      <td>0.0</td>\n",
       "      <td>359.0</td>\n",
       "      <td>1.0</td>\n",
       "      <td>...</td>\n",
       "      <td>0.0</td>\n",
       "      <td>433</td>\n",
       "      <td>17</td>\n",
       "      <td>732</td>\n",
       "      <td>15773.126</td>\n",
       "      <td>976</td>\n",
       "      <td>927.830941</td>\n",
       "      <td>36.427543</td>\n",
       "      <td>2.254042</td>\n",
       "      <td>57.411765</td>\n",
       "    </tr>\n",
       "    <tr>\n",
       "      <th>4</th>\n",
       "      <td>47076</td>\n",
       "      <td>3</td>\n",
       "      <td>12488.375</td>\n",
       "      <td>15.929050</td>\n",
       "      <td>35.473591</td>\n",
       "      <td>0.432</td>\n",
       "      <td>541.165</td>\n",
       "      <td>0.0</td>\n",
       "      <td>378.0</td>\n",
       "      <td>0.0</td>\n",
       "      <td>...</td>\n",
       "      <td>0.0</td>\n",
       "      <td>480</td>\n",
       "      <td>17</td>\n",
       "      <td>585</td>\n",
       "      <td>12488.375</td>\n",
       "      <td>784</td>\n",
       "      <td>734.610294</td>\n",
       "      <td>26.017448</td>\n",
       "      <td>1.633333</td>\n",
       "      <td>46.117647</td>\n",
       "    </tr>\n",
       "    <tr>\n",
       "      <th>...</th>\n",
       "      <td>...</td>\n",
       "      <td>...</td>\n",
       "      <td>...</td>\n",
       "      <td>...</td>\n",
       "      <td>...</td>\n",
       "      <td>...</td>\n",
       "      <td>...</td>\n",
       "      <td>...</td>\n",
       "      <td>...</td>\n",
       "      <td>...</td>\n",
       "      <td>...</td>\n",
       "      <td>...</td>\n",
       "      <td>...</td>\n",
       "      <td>...</td>\n",
       "      <td>...</td>\n",
       "      <td>...</td>\n",
       "      <td>...</td>\n",
       "      <td>...</td>\n",
       "      <td>...</td>\n",
       "      <td>...</td>\n",
       "      <td>...</td>\n",
       "    </tr>\n",
       "    <tr>\n",
       "      <th>29995</th>\n",
       "      <td>14303</td>\n",
       "      <td>1</td>\n",
       "      <td>285001.426</td>\n",
       "      <td>345.456274</td>\n",
       "      <td>1009.576868</td>\n",
       "      <td>1.786</td>\n",
       "      <td>9919.347</td>\n",
       "      <td>0.0</td>\n",
       "      <td>284.0</td>\n",
       "      <td>26.0</td>\n",
       "      <td>...</td>\n",
       "      <td>0.0</td>\n",
       "      <td>465</td>\n",
       "      <td>54</td>\n",
       "      <td>743</td>\n",
       "      <td>285001.426</td>\n",
       "      <td>825</td>\n",
       "      <td>5277.804185</td>\n",
       "      <td>612.906292</td>\n",
       "      <td>1.774194</td>\n",
       "      <td>15.277778</td>\n",
       "    </tr>\n",
       "    <tr>\n",
       "      <th>29996</th>\n",
       "      <td>22301</td>\n",
       "      <td>2</td>\n",
       "      <td>34950.321</td>\n",
       "      <td>49.715962</td>\n",
       "      <td>116.602464</td>\n",
       "      <td>0.043</td>\n",
       "      <td>2136.877</td>\n",
       "      <td>2.0</td>\n",
       "      <td>168.0</td>\n",
       "      <td>9.0</td>\n",
       "      <td>...</td>\n",
       "      <td>0.0</td>\n",
       "      <td>412</td>\n",
       "      <td>49</td>\n",
       "      <td>519</td>\n",
       "      <td>34950.321</td>\n",
       "      <td>703</td>\n",
       "      <td>713.271857</td>\n",
       "      <td>84.830876</td>\n",
       "      <td>1.706311</td>\n",
       "      <td>14.346939</td>\n",
       "    </tr>\n",
       "    <tr>\n",
       "      <th>29997</th>\n",
       "      <td>25731</td>\n",
       "      <td>0</td>\n",
       "      <td>54074.454</td>\n",
       "      <td>49.338005</td>\n",
       "      <td>80.490725</td>\n",
       "      <td>0.181</td>\n",
       "      <td>884.970</td>\n",
       "      <td>0.0</td>\n",
       "      <td>266.0</td>\n",
       "      <td>8.0</td>\n",
       "      <td>...</td>\n",
       "      <td>0.0</td>\n",
       "      <td>537</td>\n",
       "      <td>43</td>\n",
       "      <td>834</td>\n",
       "      <td>54074.454</td>\n",
       "      <td>1096</td>\n",
       "      <td>1257.545442</td>\n",
       "      <td>100.697307</td>\n",
       "      <td>2.040968</td>\n",
       "      <td>25.488372</td>\n",
       "    </tr>\n",
       "    <tr>\n",
       "      <th>29998</th>\n",
       "      <td>16820</td>\n",
       "      <td>3</td>\n",
       "      <td>32494.435</td>\n",
       "      <td>42.643615</td>\n",
       "      <td>136.489534</td>\n",
       "      <td>0.388</td>\n",
       "      <td>2959.186</td>\n",
       "      <td>2.0</td>\n",
       "      <td>340.0</td>\n",
       "      <td>3.0</td>\n",
       "      <td>...</td>\n",
       "      <td>0.0</td>\n",
       "      <td>488</td>\n",
       "      <td>41</td>\n",
       "      <td>608</td>\n",
       "      <td>32494.435</td>\n",
       "      <td>762</td>\n",
       "      <td>792.547195</td>\n",
       "      <td>66.586957</td>\n",
       "      <td>1.561475</td>\n",
       "      <td>18.585366</td>\n",
       "    </tr>\n",
       "    <tr>\n",
       "      <th>29999</th>\n",
       "      <td>5265</td>\n",
       "      <td>0</td>\n",
       "      <td>46974.129</td>\n",
       "      <td>62.799638</td>\n",
       "      <td>134.764045</td>\n",
       "      <td>1.639</td>\n",
       "      <td>2414.714</td>\n",
       "      <td>0.0</td>\n",
       "      <td>220.0</td>\n",
       "      <td>66.0</td>\n",
       "      <td>...</td>\n",
       "      <td>0.0</td>\n",
       "      <td>401</td>\n",
       "      <td>43</td>\n",
       "      <td>585</td>\n",
       "      <td>46974.129</td>\n",
       "      <td>748</td>\n",
       "      <td>1092.421605</td>\n",
       "      <td>117.142466</td>\n",
       "      <td>1.865337</td>\n",
       "      <td>17.395349</td>\n",
       "    </tr>\n",
       "  </tbody>\n",
       "</table>\n",
       "<p>30000 rows × 220 columns</p>\n",
       "</div>"
      ],
      "text/plain": [
       "       client_id  bins         sum        mean          std    min       max  \\\n",
       "0          24662     2   30254.011   34.774725    72.037354  0.074  1227.314   \n",
       "1           1046     0   42548.570   52.015367   106.540962  0.550  1210.506   \n",
       "2          34089     2   26842.816   34.325852    59.927450  0.043   782.641   \n",
       "3          34848     1   15773.126   16.160990    14.224936  0.043   109.590   \n",
       "4          47076     3   12488.375   15.929050    35.473591  0.432   541.165   \n",
       "...          ...   ...         ...         ...          ...    ...       ...   \n",
       "29995      14303     1  285001.426  345.456274  1009.576868  1.786  9919.347   \n",
       "29996      22301     2   34950.321   49.715962   116.602464  0.043  2136.877   \n",
       "29997      25731     0   54074.454   49.338005    80.490725  0.181   884.970   \n",
       "29998      16820     3   32494.435   42.643615   136.489534  0.388  2959.186   \n",
       "29999       5265     0   46974.129   62.799638   134.764045  1.639  2414.714   \n",
       "\n",
       "       small_group_0  small_group_1  small_group_2  ...  small_group_203  \\\n",
       "0                0.0          174.0            2.0  ...              0.0   \n",
       "1                1.0          187.0           61.0  ...              0.0   \n",
       "2                0.0          372.0            0.0  ...              0.0   \n",
       "3                0.0          359.0            1.0  ...              0.0   \n",
       "4                0.0          378.0            0.0  ...              0.0   \n",
       "...              ...            ...            ...  ...              ...   \n",
       "29995            0.0          284.0           26.0  ...              0.0   \n",
       "29996            2.0          168.0            9.0  ...              0.0   \n",
       "29997            0.0          266.0            8.0  ...              0.0   \n",
       "29998            2.0          340.0            3.0  ...              0.0   \n",
       "29999            0.0          220.0           66.0  ...              0.0   \n",
       "\n",
       "       trans_date  small_group  amount_rur  df_sum_amo  df_count_date  \\\n",
       "0             491           33         740   30254.011            870   \n",
       "1             469           42         636   42548.570            818   \n",
       "2             501           35         649   26842.816            782   \n",
       "3             433           17         732   15773.126            976   \n",
       "4             480           17         585   12488.375            784   \n",
       "...           ...          ...         ...         ...            ...   \n",
       "29995         465           54         743  285001.426            825   \n",
       "29996         412           49         519   34950.321            703   \n",
       "29997         537           43         834   54074.454           1096   \n",
       "29998         488           41         608   32494.435            762   \n",
       "29999         401           43         585   46974.129            748   \n",
       "\n",
       "       sum_d_small  sum_d_date  amount_d_trans  amount_d_small  \n",
       "0       916.788212   61.617130        1.771894       26.363636  \n",
       "1      1013.061190   90.721898        1.744136       19.476190  \n",
       "2       766.937600   53.578475        1.560878       22.342857  \n",
       "3       927.830941   36.427543        2.254042       57.411765  \n",
       "4       734.610294   26.017448        1.633333       46.117647  \n",
       "...            ...         ...             ...             ...  \n",
       "29995  5277.804185  612.906292        1.774194       15.277778  \n",
       "29996   713.271857   84.830876        1.706311       14.346939  \n",
       "29997  1257.545442  100.697307        2.040968       25.488372  \n",
       "29998   792.547195   66.586957        1.561475       18.585366  \n",
       "29999  1092.421605  117.142466        1.865337       17.395349  \n",
       "\n",
       "[30000 rows x 220 columns]"
      ]
     },
     "execution_count": 163,
     "metadata": {},
     "output_type": "execute_result"
    }
   ],
   "source": [
    "train"
   ]
  },
  {
   "cell_type": "code",
   "execution_count": 78,
   "metadata": {},
   "outputs": [
    {
     "name": "stdout",
     "output_type": "stream",
     "text": [
      "Empty DataFrame\n",
      "Columns: []\n",
      "Index: []\n"
     ]
    }
   ],
   "source": [
    "f_data_is_npnan_colrow(train)"
   ]
  },
  {
   "cell_type": "code",
   "execution_count": 55,
   "metadata": {},
   "outputs": [],
   "source": [
    "# удаление пустых столбцов\n",
    "# train.drop(['small_group_194', 'small_group_201'], axis=1, inplace=True)"
   ]
  },
  {
   "cell_type": "code",
   "execution_count": 79,
   "metadata": {},
   "outputs": [],
   "source": [
    "\n",
    "import numpy as np\n",
    "\n",
    "\n",
    "# импорт моделей\n",
    "from sklearn.ensemble import RandomForestClassifier\n",
    "from sklearn.ensemble import GradientBoostingClassifier\n",
    "import lightgbm as lgb\n",
    "\n",
    "from sklearn.model_selection import train_test_split\n",
    "from sklearn.model_selection import cross_val_score\n",
    "from sklearn.model_selection import KFold\n",
    "\n",
    "\n",
    "from sklearn.preprocessing import scale\n",
    "from sklearn.metrics import accuracy_score, roc_auc_score, roc_curve, auc\n",
    "from sklearn.metrics import mean_squared_error, confusion_matrix\n"
   ]
  },
  {
   "cell_type": "code",
   "execution_count": 164,
   "metadata": {},
   "outputs": [],
   "source": [
    "itog_val = {}\n",
    "k_fold = 3\n",
    "random_state = 777"
   ]
  },
  {
   "cell_type": "code",
   "execution_count": 165,
   "metadata": {},
   "outputs": [],
   "source": [
    "X = train.drop('bins', axis=1)\n",
    "y = train['bins']"
   ]
  },
  {
   "cell_type": "code",
   "execution_count": 166,
   "metadata": {},
   "outputs": [
    {
     "name": "stdout",
     "output_type": "stream",
     "text": [
      "(20100, 219) (20100,)\n"
     ]
    }
   ],
   "source": [
    "X_train, X_test, y_train, y_test = train_test_split(X, y, test_size=0.33, random_state=random_state)\n",
    "print(X_train.shape, y_train.shape)"
   ]
  },
  {
   "cell_type": "code",
   "execution_count": 83,
   "metadata": {},
   "outputs": [],
   "source": [
    "\n",
    "\n",
    "def f_rmse_score(model, X_train, X_test, y_train, y_test):\n",
    "    #среднеквадратичная ошибка или среднеквадратичное отклонение оценщика измеряет среднее значение квадратов ошибок, \n",
    "    #то есть среднеквадратическую разницу между оценочными значениями и фактическим значением. \n",
    "    mse_train = mean_squared_error(y_true = y_train,\n",
    "                                  y_pred = model.predict(X_train))\n",
    "    mse_test = mean_squared_error(y_true = y_test,\n",
    "                                  y_pred = model.predict(X_test))\n",
    "    rmse_train = mse_train ** 0.5\n",
    "    rmse_test = mse_test ** 0.5\n",
    "    \n",
    "    print(\"The training RMSE for \" + str(model) + \" is: \" + str(rmse_train))\n",
    "    print(\"The testing RMSE for \" + str(model) + \" is: \" + str(rmse_test))\n",
    "    return (rmse_train, rmse_test)\n",
    "\n",
    "\n",
    "\n",
    "def f_err_predict_test_train(model, X_train, X_test, y_train, y_test):\n",
    "    # ошибки на предсказания меток моделью\n",
    "    \n",
    "    err_train = np.mean(y_train != model.predict(X_train))\n",
    "    err_test  = np.mean(y_test  != model.predict(X_test))\n",
    "    \n",
    "    print(\"ошибки на обучающей: {0:.2f}%\".format(err_train*100))\n",
    "    print(\"ошибки на тестовой: {0:.2f}%\".format(err_test*100))\n",
    "    \n",
    "    \n",
    "      \n",
    "def f_cross_val_scores(model, X, y, k_fold=3):\n",
    "    #\n",
    "    scoring = 'accuracy'\n",
    "    rslt = cross_val_score(model, X, y, cv=k_fold, n_jobs=-1, scoring=scoring)\n",
    "    print(f'Результат кроссвалидации = {rslt}')\n",
    "    #print(f'Среднее значение кроссвализации {rslt.mean()}')\n",
    "    \n",
    "    return rslt.mean()\n",
    "     \n",
    "    "
   ]
  },
  {
   "cell_type": "code",
   "execution_count": null,
   "metadata": {},
   "outputs": [],
   "source": []
  },
  {
   "cell_type": "code",
   "execution_count": 84,
   "metadata": {},
   "outputs": [
    {
     "name": "stdout",
     "output_type": "stream",
     "text": [
      "ошибки на обучающей: 12.21%\n",
      "ошибки на тестовой: 40.58%\n",
      "Результат кроссвалидации = [0.5893 0.5945 0.5945]\n",
      "0.5942424242424242\n"
     ]
    }
   ],
   "source": [
    "#model RandomForestClassifier\n",
    "model_rfc = RandomForestClassifier(max_depth = 33, \n",
    "                                   min_samples_leaf = 8,\n",
    "                                   min_samples_split = 2,\n",
    "                                   n_estimators = 600,\n",
    "                                   random_state=random_state)\n",
    "predict = model_rfc.fit(X_train, y_train).predict(X_test)\n",
    "\n",
    "#f_rmse_score(model_rfc, X_train, X_test, y_train, y_test)\n",
    "\n",
    "f_err_predict_test_train(model_rfc, X_train, X_test, y_train, y_test)\n",
    "itog_val['RandomForestClassifier'] = f_cross_val_scores(model_rfc, X, y, k_fold)\n",
    "\n",
    "print(accuracy_score(y_test, predict))   #0.5924"
   ]
  },
  {
   "cell_type": "code",
   "execution_count": 161,
   "metadata": {},
   "outputs": [
    {
     "ename": "KeyboardInterrupt",
     "evalue": "",
     "output_type": "error",
     "traceback": [
      "\u001b[0;31m---------------------------------------------------------------------------\u001b[0m",
      "\u001b[0;31mKeyboardInterrupt\u001b[0m                         Traceback (most recent call last)",
      "\u001b[0;32m<ipython-input-161-93c43f98a4c6>\u001b[0m in \u001b[0;36m<module>\u001b[0;34m\u001b[0m\n\u001b[1;32m      4\u001b[0m                                        \u001b[0mn_estimators\u001b[0m\u001b[0;34m=\u001b[0m\u001b[0;36m220\u001b[0m\u001b[0;34m,\u001b[0m\u001b[0;34m\u001b[0m\u001b[0;34m\u001b[0m\u001b[0m\n\u001b[1;32m      5\u001b[0m                                        random_state=random_state)\n\u001b[0;32m----> 6\u001b[0;31m \u001b[0mpredict\u001b[0m \u001b[0;34m=\u001b[0m \u001b[0mmodel_gbc\u001b[0m\u001b[0;34m.\u001b[0m\u001b[0mfit\u001b[0m\u001b[0;34m(\u001b[0m\u001b[0mX_train\u001b[0m\u001b[0;34m,\u001b[0m \u001b[0my_train\u001b[0m\u001b[0;34m)\u001b[0m\u001b[0;34m.\u001b[0m\u001b[0mpredict\u001b[0m\u001b[0;34m(\u001b[0m\u001b[0mX_test\u001b[0m\u001b[0;34m)\u001b[0m\u001b[0;34m\u001b[0m\u001b[0;34m\u001b[0m\u001b[0m\n\u001b[0m\u001b[1;32m      7\u001b[0m \u001b[0;34m\u001b[0m\u001b[0m\n\u001b[1;32m      8\u001b[0m \u001b[0;31m#f_rmse_score(model_gbc, X_train, X_test, y_train, y_test)\u001b[0m\u001b[0;34m\u001b[0m\u001b[0;34m\u001b[0m\u001b[0;34m\u001b[0m\u001b[0m\n",
      "\u001b[0;32m/Library/Frameworks/Python.framework/Versions/3.7/lib/python3.7/site-packages/sklearn/ensemble/_gb.py\u001b[0m in \u001b[0;36mfit\u001b[0;34m(self, X, y, sample_weight, monitor)\u001b[0m\n\u001b[1;32m   1535\u001b[0m         n_stages = self._fit_stages(\n\u001b[1;32m   1536\u001b[0m             \u001b[0mX\u001b[0m\u001b[0;34m,\u001b[0m \u001b[0my\u001b[0m\u001b[0;34m,\u001b[0m \u001b[0mraw_predictions\u001b[0m\u001b[0;34m,\u001b[0m \u001b[0msample_weight\u001b[0m\u001b[0;34m,\u001b[0m \u001b[0mself\u001b[0m\u001b[0;34m.\u001b[0m\u001b[0m_rng\u001b[0m\u001b[0;34m,\u001b[0m \u001b[0mX_val\u001b[0m\u001b[0;34m,\u001b[0m \u001b[0my_val\u001b[0m\u001b[0;34m,\u001b[0m\u001b[0;34m\u001b[0m\u001b[0;34m\u001b[0m\u001b[0m\n\u001b[0;32m-> 1537\u001b[0;31m             sample_weight_val, begin_at_stage, monitor, X_idx_sorted)\n\u001b[0m\u001b[1;32m   1538\u001b[0m \u001b[0;34m\u001b[0m\u001b[0m\n\u001b[1;32m   1539\u001b[0m         \u001b[0;31m# change shape of arrays after fit (early-stopping or additional ests)\u001b[0m\u001b[0;34m\u001b[0m\u001b[0;34m\u001b[0m\u001b[0;34m\u001b[0m\u001b[0m\n",
      "\u001b[0;32m/Library/Frameworks/Python.framework/Versions/3.7/lib/python3.7/site-packages/sklearn/ensemble/_gb.py\u001b[0m in \u001b[0;36m_fit_stages\u001b[0;34m(self, X, y, raw_predictions, sample_weight, random_state, X_val, y_val, sample_weight_val, begin_at_stage, monitor, X_idx_sorted)\u001b[0m\n\u001b[1;32m   1592\u001b[0m             raw_predictions = self._fit_stage(\n\u001b[1;32m   1593\u001b[0m                 \u001b[0mi\u001b[0m\u001b[0;34m,\u001b[0m \u001b[0mX\u001b[0m\u001b[0;34m,\u001b[0m \u001b[0my\u001b[0m\u001b[0;34m,\u001b[0m \u001b[0mraw_predictions\u001b[0m\u001b[0;34m,\u001b[0m \u001b[0msample_weight\u001b[0m\u001b[0;34m,\u001b[0m \u001b[0msample_mask\u001b[0m\u001b[0;34m,\u001b[0m\u001b[0;34m\u001b[0m\u001b[0;34m\u001b[0m\u001b[0m\n\u001b[0;32m-> 1594\u001b[0;31m                 random_state, X_idx_sorted, X_csc, X_csr)\n\u001b[0m\u001b[1;32m   1595\u001b[0m \u001b[0;34m\u001b[0m\u001b[0m\n\u001b[1;32m   1596\u001b[0m             \u001b[0;31m# track deviance (= loss)\u001b[0m\u001b[0;34m\u001b[0m\u001b[0;34m\u001b[0m\u001b[0;34m\u001b[0m\u001b[0m\n",
      "\u001b[0;32m/Library/Frameworks/Python.framework/Versions/3.7/lib/python3.7/site-packages/sklearn/ensemble/_gb.py\u001b[0m in \u001b[0;36m_fit_stage\u001b[0;34m(self, i, X, y, raw_predictions, sample_weight, sample_mask, random_state, X_idx_sorted, X_csc, X_csr)\u001b[0m\n\u001b[1;32m   1243\u001b[0m             \u001b[0mX\u001b[0m \u001b[0;34m=\u001b[0m \u001b[0mX_csr\u001b[0m \u001b[0;32mif\u001b[0m \u001b[0mX_csr\u001b[0m \u001b[0;32mis\u001b[0m \u001b[0;32mnot\u001b[0m \u001b[0;32mNone\u001b[0m \u001b[0;32melse\u001b[0m \u001b[0mX\u001b[0m\u001b[0;34m\u001b[0m\u001b[0;34m\u001b[0m\u001b[0m\n\u001b[1;32m   1244\u001b[0m             tree.fit(X, residual, sample_weight=sample_weight,\n\u001b[0;32m-> 1245\u001b[0;31m                      check_input=False, X_idx_sorted=X_idx_sorted)\n\u001b[0m\u001b[1;32m   1246\u001b[0m \u001b[0;34m\u001b[0m\u001b[0m\n\u001b[1;32m   1247\u001b[0m             \u001b[0;31m# update tree leaves\u001b[0m\u001b[0;34m\u001b[0m\u001b[0;34m\u001b[0m\u001b[0;34m\u001b[0m\u001b[0m\n",
      "\u001b[0;32m/Library/Frameworks/Python.framework/Versions/3.7/lib/python3.7/site-packages/sklearn/tree/_classes.py\u001b[0m in \u001b[0;36mfit\u001b[0;34m(self, X, y, sample_weight, check_input, X_idx_sorted)\u001b[0m\n\u001b[1;32m   1224\u001b[0m             \u001b[0msample_weight\u001b[0m\u001b[0;34m=\u001b[0m\u001b[0msample_weight\u001b[0m\u001b[0;34m,\u001b[0m\u001b[0;34m\u001b[0m\u001b[0;34m\u001b[0m\u001b[0m\n\u001b[1;32m   1225\u001b[0m             \u001b[0mcheck_input\u001b[0m\u001b[0;34m=\u001b[0m\u001b[0mcheck_input\u001b[0m\u001b[0;34m,\u001b[0m\u001b[0;34m\u001b[0m\u001b[0;34m\u001b[0m\u001b[0m\n\u001b[0;32m-> 1226\u001b[0;31m             X_idx_sorted=X_idx_sorted)\n\u001b[0m\u001b[1;32m   1227\u001b[0m         \u001b[0;32mreturn\u001b[0m \u001b[0mself\u001b[0m\u001b[0;34m\u001b[0m\u001b[0;34m\u001b[0m\u001b[0m\n\u001b[1;32m   1228\u001b[0m \u001b[0;34m\u001b[0m\u001b[0m\n",
      "\u001b[0;32m/Library/Frameworks/Python.framework/Versions/3.7/lib/python3.7/site-packages/sklearn/tree/_classes.py\u001b[0m in \u001b[0;36mfit\u001b[0;34m(self, X, y, sample_weight, check_input, X_idx_sorted)\u001b[0m\n\u001b[1;32m    365\u001b[0m                                            min_impurity_split)\n\u001b[1;32m    366\u001b[0m \u001b[0;34m\u001b[0m\u001b[0m\n\u001b[0;32m--> 367\u001b[0;31m         \u001b[0mbuilder\u001b[0m\u001b[0;34m.\u001b[0m\u001b[0mbuild\u001b[0m\u001b[0;34m(\u001b[0m\u001b[0mself\u001b[0m\u001b[0;34m.\u001b[0m\u001b[0mtree_\u001b[0m\u001b[0;34m,\u001b[0m \u001b[0mX\u001b[0m\u001b[0;34m,\u001b[0m \u001b[0my\u001b[0m\u001b[0;34m,\u001b[0m \u001b[0msample_weight\u001b[0m\u001b[0;34m,\u001b[0m \u001b[0mX_idx_sorted\u001b[0m\u001b[0;34m)\u001b[0m\u001b[0;34m\u001b[0m\u001b[0;34m\u001b[0m\u001b[0m\n\u001b[0m\u001b[1;32m    368\u001b[0m \u001b[0;34m\u001b[0m\u001b[0m\n\u001b[1;32m    369\u001b[0m         \u001b[0;32mif\u001b[0m \u001b[0mself\u001b[0m\u001b[0;34m.\u001b[0m\u001b[0mn_outputs_\u001b[0m \u001b[0;34m==\u001b[0m \u001b[0;36m1\u001b[0m \u001b[0;32mand\u001b[0m \u001b[0mis_classifier\u001b[0m\u001b[0;34m(\u001b[0m\u001b[0mself\u001b[0m\u001b[0;34m)\u001b[0m\u001b[0;34m:\u001b[0m\u001b[0;34m\u001b[0m\u001b[0;34m\u001b[0m\u001b[0m\n",
      "\u001b[0;31mKeyboardInterrupt\u001b[0m: "
     ]
    }
   ],
   "source": [
    "# модель GradientBoostingClassifier\n",
    "model_gbc = GradientBoostingClassifier(learning_rate=0.1, \n",
    "                                       min_samples_leaf=2, \n",
    "                                       min_samples_split=10,\n",
    "                                       n_estimators=220, \n",
    "                                       random_state=random_state)\n",
    "predict = model_gbc.fit(X_train, y_train).predict(X_test)\n",
    "\n",
    "#f_rmse_score(model_gbc, X_train, X_test, y_train, y_test)\n",
    "\n",
    "f_err_predict_test_train(model_gbc, X_train, X_test, y_train, y_test)\n",
    "itog_val['GradientBoostingClassifier'] = f_cross_val_scores(model_gbc, X, y, k_fold)\n",
    "\n",
    "print(accuracy_score(y_test, predict)) # 0.6115"
   ]
  },
  {
   "cell_type": "code",
   "execution_count": 188,
   "metadata": {},
   "outputs": [
    {
     "name": "stdout",
     "output_type": "stream",
     "text": [
      "ошибки на обучающей: 0.24%\n",
      "ошибки на тестовой: 38.69%\n",
      "0.6131313131313131\n"
     ]
    }
   ],
   "source": [
    "# модель lightgbm\n",
    "model_lgb = lgb.LGBMClassifier(num_leaves=31,\n",
    "                               max_depth=-1,\n",
    "                               learning_rate=0.1,\n",
    "                               n_estimators=600,\n",
    "                               min_child_samples=19,\n",
    "                               random_state = random_state)\n",
    "predict = model_lgb.fit(X_train, y_train).predict(X_test)\n",
    "\n",
    "#f_rmse_score(model_lgb, X_train, X_test, y_train, y_test)\n",
    "\n",
    "f_err_predict_test_train(model_lgb, X_train, X_test, y_train, y_test)\n",
    "#itog_val['LGBMClassifier'] = f_cross_val_scores(model_lgb, X, y, k_fold)\n",
    "\n",
    "print(accuracy_score(y_test, predict))  #0.6094949494949495 61535 613"
   ]
  },
  {
   "cell_type": "code",
   "execution_count": null,
   "metadata": {},
   "outputs": [],
   "source": []
  },
  {
   "cell_type": "code",
   "execution_count": 66,
   "metadata": {},
   "outputs": [
    {
     "data": {
      "text/plain": [
       "<matplotlib.axes._subplots.AxesSubplot at 0x1ccf4bb70>"
      ]
     },
     "execution_count": 66,
     "metadata": {},
     "output_type": "execute_result"
    },
    {
     "data": {
      "image/png": "[encoded data removed]",
      "text/plain": [
       "<Figure size 432x288 with 1 Axes>"
      ]
     },
     "metadata": {
      "needs_background": "light"
     },
     "output_type": "display_data"
    }
   ],
   "source": [
    "# Перекресная кросвалидация моделей\n",
    "X.from_dict(data = itog_val, orient='index').plot(kind='bar', legend=False)"
   ]
  },
  {
   "cell_type": "code",
   "execution_count": null,
   "metadata": {},
   "outputs": [],
   "source": []
  },
  {
   "cell_type": "code",
   "execution_count": 93,
   "metadata": {},
   "outputs": [],
   "source": [
    "test = pd.merge(test_id, cat_counts_train.reset_index(), on='client_id')\n",
    "\n",
    "test = pd.merge(test, agg_unique, on='client_id')\n",
    "\n",
    "test = pd.merge(test, agg_features, on='client_id')"
   ]
  },
  {
   "cell_type": "code",
   "execution_count": null,
   "metadata": {},
   "outputs": [],
   "source": [
    "test = f_normalize(test, test.columns[2:])"
   ]
  },
  {
   "cell_type": "code",
   "execution_count": 94,
   "metadata": {},
   "outputs": [
    {
     "data": {
      "text/html": [
       "<div>\n",
       "<style scoped>\n",
       "    .dataframe tbody tr th:only-of-type {\n",
       "        vertical-align: middle;\n",
       "    }\n",
       "\n",
       "    .dataframe tbody tr th {\n",
       "        vertical-align: top;\n",
       "    }\n",
       "\n",
       "    .dataframe thead th {\n",
       "        text-align: right;\n",
       "    }\n",
       "</style>\n",
       "<table border=\"1\" class=\"dataframe\">\n",
       "  <thead>\n",
       "    <tr style=\"text-align: right;\">\n",
       "      <th></th>\n",
       "      <th>client_id</th>\n",
       "      <th>small_group_0</th>\n",
       "      <th>small_group_1</th>\n",
       "      <th>small_group_2</th>\n",
       "      <th>small_group_3</th>\n",
       "      <th>small_group_4</th>\n",
       "      <th>small_group_5</th>\n",
       "      <th>small_group_6</th>\n",
       "      <th>small_group_7</th>\n",
       "      <th>small_group_8</th>\n",
       "      <th>...</th>\n",
       "      <th>df_count_date</th>\n",
       "      <th>sum_d_small</th>\n",
       "      <th>sum_d_date</th>\n",
       "      <th>amount_d_trans</th>\n",
       "      <th>amount_d_small</th>\n",
       "      <th>sum</th>\n",
       "      <th>mean</th>\n",
       "      <th>std</th>\n",
       "      <th>min</th>\n",
       "      <th>max</th>\n",
       "    </tr>\n",
       "  </thead>\n",
       "  <tbody>\n",
       "    <tr>\n",
       "      <th>0</th>\n",
       "      <td>28571</td>\n",
       "      <td>0.0</td>\n",
       "      <td>278.0</td>\n",
       "      <td>13.0</td>\n",
       "      <td>35.0</td>\n",
       "      <td>35.0</td>\n",
       "      <td>0.0</td>\n",
       "      <td>0.0</td>\n",
       "      <td>0.0</td>\n",
       "      <td>1.0</td>\n",
       "      <td>...</td>\n",
       "      <td>718</td>\n",
       "      <td>802.817974</td>\n",
       "      <td>66.755105</td>\n",
       "      <td>1.571116</td>\n",
       "      <td>18.894737</td>\n",
       "      <td>30507.083</td>\n",
       "      <td>42.488974</td>\n",
       "      <td>43.659666</td>\n",
       "      <td>0.078</td>\n",
       "      <td>306.882</td>\n",
       "    </tr>\n",
       "    <tr>\n",
       "      <th>1</th>\n",
       "      <td>27046</td>\n",
       "      <td>9.0</td>\n",
       "      <td>193.0</td>\n",
       "      <td>68.0</td>\n",
       "      <td>34.0</td>\n",
       "      <td>51.0</td>\n",
       "      <td>0.0</td>\n",
       "      <td>2.0</td>\n",
       "      <td>0.0</td>\n",
       "      <td>1.0</td>\n",
       "      <td>...</td>\n",
       "      <td>1010</td>\n",
       "      <td>678.931310</td>\n",
       "      <td>89.090534</td>\n",
       "      <td>2.285068</td>\n",
       "      <td>17.413793</td>\n",
       "      <td>39378.016</td>\n",
       "      <td>38.988135</td>\n",
       "      <td>93.600961</td>\n",
       "      <td>0.043</td>\n",
       "      <td>1469.007</td>\n",
       "    </tr>\n",
       "    <tr>\n",
       "      <th>2</th>\n",
       "      <td>13240</td>\n",
       "      <td>0.0</td>\n",
       "      <td>227.0</td>\n",
       "      <td>3.0</td>\n",
       "      <td>165.0</td>\n",
       "      <td>41.0</td>\n",
       "      <td>0.0</td>\n",
       "      <td>0.0</td>\n",
       "      <td>1.0</td>\n",
       "      <td>2.0</td>\n",
       "      <td>...</td>\n",
       "      <td>942</td>\n",
       "      <td>1167.700628</td>\n",
       "      <td>106.379506</td>\n",
       "      <td>1.995763</td>\n",
       "      <td>21.906977</td>\n",
       "      <td>50211.127</td>\n",
       "      <td>53.302683</td>\n",
       "      <td>198.583630</td>\n",
       "      <td>1.078</td>\n",
       "      <td>3902.918</td>\n",
       "    </tr>\n",
       "    <tr>\n",
       "      <th>3</th>\n",
       "      <td>19974</td>\n",
       "      <td>42.0</td>\n",
       "      <td>305.0</td>\n",
       "      <td>12.0</td>\n",
       "      <td>70.0</td>\n",
       "      <td>49.0</td>\n",
       "      <td>0.0</td>\n",
       "      <td>0.0</td>\n",
       "      <td>0.0</td>\n",
       "      <td>4.0</td>\n",
       "      <td>...</td>\n",
       "      <td>852</td>\n",
       "      <td>1031.170250</td>\n",
       "      <td>89.313959</td>\n",
       "      <td>1.677165</td>\n",
       "      <td>19.363636</td>\n",
       "      <td>45371.491</td>\n",
       "      <td>53.252924</td>\n",
       "      <td>273.597147</td>\n",
       "      <td>0.432</td>\n",
       "      <td>5865.551</td>\n",
       "    </tr>\n",
       "    <tr>\n",
       "      <th>4</th>\n",
       "      <td>10505</td>\n",
       "      <td>0.0</td>\n",
       "      <td>516.0</td>\n",
       "      <td>56.0</td>\n",
       "      <td>162.0</td>\n",
       "      <td>47.0</td>\n",
       "      <td>1.0</td>\n",
       "      <td>0.0</td>\n",
       "      <td>1.0</td>\n",
       "      <td>4.0</td>\n",
       "      <td>...</td>\n",
       "      <td>1109</td>\n",
       "      <td>1893.408917</td>\n",
       "      <td>157.238111</td>\n",
       "      <td>1.918685</td>\n",
       "      <td>23.104167</td>\n",
       "      <td>90883.628</td>\n",
       "      <td>81.950972</td>\n",
       "      <td>119.408720</td>\n",
       "      <td>0.043</td>\n",
       "      <td>1921.341</td>\n",
       "    </tr>\n",
       "  </tbody>\n",
       "</table>\n",
       "<p>5 rows × 219 columns</p>\n",
       "</div>"
      ],
      "text/plain": [
       "   client_id  small_group_0  small_group_1  small_group_2  small_group_3  \\\n",
       "0      28571            0.0          278.0           13.0           35.0   \n",
       "1      27046            9.0          193.0           68.0           34.0   \n",
       "2      13240            0.0          227.0            3.0          165.0   \n",
       "3      19974           42.0          305.0           12.0           70.0   \n",
       "4      10505            0.0          516.0           56.0          162.0   \n",
       "\n",
       "   small_group_4  small_group_5  small_group_6  small_group_7  small_group_8  \\\n",
       "0           35.0            0.0            0.0            0.0            1.0   \n",
       "1           51.0            0.0            2.0            0.0            1.0   \n",
       "2           41.0            0.0            0.0            1.0            2.0   \n",
       "3           49.0            0.0            0.0            0.0            4.0   \n",
       "4           47.0            1.0            0.0            1.0            4.0   \n",
       "\n",
       "   ...  df_count_date  sum_d_small  sum_d_date  amount_d_trans  \\\n",
       "0  ...            718   802.817974   66.755105        1.571116   \n",
       "1  ...           1010   678.931310   89.090534        2.285068   \n",
       "2  ...            942  1167.700628  106.379506        1.995763   \n",
       "3  ...            852  1031.170250   89.313959        1.677165   \n",
       "4  ...           1109  1893.408917  157.238111        1.918685   \n",
       "\n",
       "   amount_d_small        sum       mean         std    min       max  \n",
       "0       18.894737  30507.083  42.488974   43.659666  0.078   306.882  \n",
       "1       17.413793  39378.016  38.988135   93.600961  0.043  1469.007  \n",
       "2       21.906977  50211.127  53.302683  198.583630  1.078  3902.918  \n",
       "3       19.363636  45371.491  53.252924  273.597147  0.432  5865.551  \n",
       "4       23.104167  90883.628  81.950972  119.408720  0.043  1921.341  \n",
       "\n",
       "[5 rows x 219 columns]"
      ]
     },
     "execution_count": 94,
     "metadata": {},
     "output_type": "execute_result"
    }
   ],
   "source": [
    "test.head()"
   ]
  },
  {
   "cell_type": "code",
   "execution_count": null,
   "metadata": {},
   "outputs": [],
   "source": []
  },
  {
   "cell_type": "code",
   "execution_count": 193,
   "metadata": {},
   "outputs": [],
   "source": [
    "# список общих признаков\n",
    "common_features = list(set(train.columns).intersection(set(test.columns)))"
   ]
  },
  {
   "cell_type": "code",
   "execution_count": 194,
   "metadata": {},
   "outputs": [],
   "source": [
    "y_train=train['bins']\n",
    "X_train=train[common_features]\n",
    "X_test=test[common_features]"
   ]
  },
  {
   "cell_type": "code",
   "execution_count": null,
   "metadata": {},
   "outputs": [],
   "source": []
  },
  {
   "cell_type": "markdown",
   "metadata": {},
   "source": [
    "### Предсказание "
   ]
  },
  {
   "cell_type": "code",
   "execution_count": 97,
   "metadata": {},
   "outputs": [
    {
     "name": "stdout",
     "output_type": "stream",
     "text": [
      "CPU times: user 6min 54s, sys: 4.17 s, total: 6min 58s\n",
      "Wall time: 7min 37s\n"
     ]
    }
   ],
   "source": [
    "%%time\n",
    "predict = model_gbc.fit(X_train, y_train).predict(X_test)"
   ]
  },
  {
   "cell_type": "code",
   "execution_count": 195,
   "metadata": {},
   "outputs": [
    {
     "name": "stdout",
     "output_type": "stream",
     "text": [
      "CPU times: user 1min 56s, sys: 1.98 s, total: 1min 58s\n",
      "Wall time: 44.5 s\n"
     ]
    }
   ],
   "source": [
    "%%time\n",
    "predict = model_lgb.fit(X_train, y_train).predict(X_test)"
   ]
  },
  {
   "cell_type": "code",
   "execution_count": null,
   "metadata": {},
   "outputs": [],
   "source": []
  },
  {
   "cell_type": "markdown",
   "metadata": {},
   "source": [
    "### Подготовим файл для отправки в систему"
   ]
  },
  {
   "cell_type": "code",
   "execution_count": 196,
   "metadata": {},
   "outputs": [
    {
     "data": {
      "text/html": [
       "<div>\n",
       "<style scoped>\n",
       "    .dataframe tbody tr th:only-of-type {\n",
       "        vertical-align: middle;\n",
       "    }\n",
       "\n",
       "    .dataframe tbody tr th {\n",
       "        vertical-align: top;\n",
       "    }\n",
       "\n",
       "    .dataframe thead th {\n",
       "        text-align: right;\n",
       "    }\n",
       "</style>\n",
       "<table border=\"1\" class=\"dataframe\">\n",
       "  <thead>\n",
       "    <tr style=\"text-align: right;\">\n",
       "      <th></th>\n",
       "      <th>bins</th>\n",
       "    </tr>\n",
       "    <tr>\n",
       "      <th>client_id</th>\n",
       "      <th></th>\n",
       "    </tr>\n",
       "  </thead>\n",
       "  <tbody>\n",
       "    <tr>\n",
       "      <th>28571</th>\n",
       "      <td>0</td>\n",
       "    </tr>\n",
       "    <tr>\n",
       "      <th>27046</th>\n",
       "      <td>2</td>\n",
       "    </tr>\n",
       "    <tr>\n",
       "      <th>13240</th>\n",
       "      <td>3</td>\n",
       "    </tr>\n",
       "    <tr>\n",
       "      <th>19974</th>\n",
       "      <td>0</td>\n",
       "    </tr>\n",
       "    <tr>\n",
       "      <th>10505</th>\n",
       "      <td>1</td>\n",
       "    </tr>\n",
       "  </tbody>\n",
       "</table>\n",
       "</div>"
      ],
      "text/plain": [
       "           bins\n",
       "client_id      \n",
       "28571         0\n",
       "27046         2\n",
       "13240         3\n",
       "19974         0\n",
       "10505         1"
      ]
     },
     "execution_count": 196,
     "metadata": {},
     "output_type": "execute_result"
    }
   ],
   "source": [
    "result = pd.DataFrame({'bins': predict}, index=test.client_id)\n",
    "result.head()"
   ]
  },
  {
   "cell_type": "code",
   "execution_count": 197,
   "metadata": {},
   "outputs": [
    {
     "name": "stdout",
     "output_type": "stream",
     "text": [
      "file saved! ../data_out/submission_160107.csv\n"
     ]
    }
   ],
   "source": [
    "from datetime import datetime\n",
    "import os\n",
    "\n",
    "\n",
    "date_current = datetime.today().strftime('%d%H%M')\n",
    "file_name = f'../data_out/submission_{date_current}.csv'\n",
    "\n",
    "if not os.path.exists('../data_out'):\n",
    "    os.makedirs('../data_out')\n",
    "\n",
    "print('file saved!', file_name)\n",
    "result.to_csv(file_name, index=True)"
   ]
  }
 ],
 "metadata": {
  "kernelspec": {
   "display_name": "Python 3",
   "language": "python",
   "name": "python3"
  },
  "language_info": {
   "codemirror_mode": {
    "name": "ipython",
    "version": 3
   },
   "file_extension": ".py",
   "mimetype": "text/x-python",
   "name": "python",
   "nbconvert_exporter": "python",
   "pygments_lexer": "ipython3",
   "version": "3.7.2"
  }
 },
 "nbformat": 4,
 "nbformat_minor": 2
}
